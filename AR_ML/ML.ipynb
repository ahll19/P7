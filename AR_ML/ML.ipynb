{
 "cells": [
  {
   "cell_type": "code",
   "execution_count": 10,
   "metadata": {},
   "outputs": [],
   "source": [
    "import numpy as np\n",
    "import matplotlib.pyplot as plt\n",
    "import torch\n",
    "import torch.nn as nn\n",
    "import torchvision as tv\n",
    "import torchvision.transforms as transforms\n",
    "import sys, os\n",
    "from sklearn.model_selection import train_test_split as tts\n",
    "from scipy.ndimage import uniform_filter1d\n",
    "from torch.utils.data import Dataset, DataLoader\n",
    "\n",
    "sys.path.append(os.getcwd())\n",
    "from models import NeuralNet, Article_nn2\n"
   ]
  },
  {
   "cell_type": "code",
   "execution_count": 11,
   "metadata": {},
   "outputs": [],
   "source": [
    "# Import the keys\n",
    "keys = list(np.load(\"keys/all_keys.npy\"))\n",
    "keys = [tuple(k) for k in keys]\n",
    "\n",
    "# Import the data and labels\n",
    "mi_matrices = {\n",
    "    key:np.load(f\"MI_matrices/MI_matrix_{key}.npy\") for key in keys\n",
    "}\n",
    "data = {\n",
    "    key:np.load(f\"data/data_{key}.npy\") for key in keys\n",
    "}\n",
    "\n",
    "# Sort data into a list, with the same ordering as the MI_matrices\n",
    "mi_matrices_list = list()\n",
    "data_list = list()\n",
    "for key in keys:\n",
    "    mi_matrices_list.append(mi_matrices[key])\n",
    "    data_list.append(data[key])"
   ]
  },
  {
   "cell_type": "code",
   "execution_count": null,
   "metadata": {},
   "outputs": [],
   "source": [
    "# Training loop\n",
    "def train(train_loader, learning_rate, num_epoch, batch_size, network=\"FNN\"):\n",
    "    match network:\n",
    "        "
   ]
  }
 ],
 "metadata": {
  "kernelspec": {
   "display_name": "Python 3.10.6 ('uni_python')",
   "language": "python",
   "name": "python3"
  },
  "language_info": {
   "codemirror_mode": {
    "name": "ipython",
    "version": 3
   },
   "file_extension": ".py",
   "mimetype": "text/x-python",
   "name": "python",
   "nbconvert_exporter": "python",
   "pygments_lexer": "ipython3",
   "version": "3.10.6"
  },
  "orig_nbformat": 4,
  "vscode": {
   "interpreter": {
    "hash": "dffeb5d5d60ad7e8157925030d2fb867867025db2e2d26da9e7bf712089e2da9"
   }
  }
 },
 "nbformat": 4,
 "nbformat_minor": 2
}

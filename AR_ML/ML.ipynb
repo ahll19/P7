{
 "cells": [
  {
   "cell_type": "code",
   "execution_count": 1,
   "metadata": {},
   "outputs": [],
   "source": [
    "import pickle\n",
    "import numpy as np\n",
    "import pandas as pd\n",
    "import matplotlib.pyplot as plt"
   ]
  },
  {
   "cell_type": "code",
   "execution_count": 3,
   "metadata": {},
   "outputs": [],
   "source": [
    "with open(\"data/order_1 samples_7 choose3.pkl\", \"rb\") as f:\n",
    "    data_order1 = pickle.load(f)\n",
    "\n",
    "with open(\"data/order_2 samples_5 choose3.pkl\", \"rb\") as f:\n",
    "    data_order2 = pickle.load(f)"
   ]
  },
  {
   "cell_type": "code",
   "execution_count": 23,
   "metadata": {},
   "outputs": [],
   "source": [
    "# data shape: [realizations, length, dimension]\n",
    "# label shape: [realization, dimension, dimension]\n",
    "data = []\n",
    "labels = []\n",
    "\n",
    "for key, value in data_order1.items():\n",
    "    data.append(value[0][1:])\n",
    "    labels.append(value[1])\n",
    "\n",
    "for key, value in data_order2.items():\n",
    "    data.append(value[0][1:])\n",
    "    labels.append(value[1])\n",
    "\n",
    "data = np.asarray(data)\n",
    "labels = np.asarray(labels)\n",
    "\n",
    "np.save(\"data/jakob_formatted_data.npy\", data)\n",
    "np.save(\"data/jakob_formatted_labels.npy\", data)"
   ]
  }
 ],
 "metadata": {
  "kernelspec": {
   "display_name": "Python 3.10.6 ('uni_python')",
   "language": "python",
   "name": "python3"
  },
  "language_info": {
   "codemirror_mode": {
    "name": "ipython",
    "version": 3
   },
   "file_extension": ".py",
   "mimetype": "text/x-python",
   "name": "python",
   "nbconvert_exporter": "python",
   "pygments_lexer": "ipython3",
   "version": "3.10.6"
  },
  "orig_nbformat": 4,
  "vscode": {
   "interpreter": {
    "hash": "dffeb5d5d60ad7e8157925030d2fb867867025db2e2d26da9e7bf712089e2da9"
   }
  }
 },
 "nbformat": 4,
 "nbformat_minor": 2
}

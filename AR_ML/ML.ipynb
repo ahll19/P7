{
 "cells": [
  {
   "cell_type": "code",
   "execution_count": 35,
   "metadata": {},
   "outputs": [],
   "source": [
    "import numpy as np\n",
    "import matplotlib.pyplot as plt\n",
    "import torch\n",
    "import torch.nn as nn\n",
    "import torchvision as tv\n",
    "import torchvision.transforms as transforms\n",
    "import sys, os\n",
    "from sklearn.model_selection import train_test_split as tts\n",
    "from scipy.ndimage import uniform_filter1d\n",
    "from torch.utils.data import Dataset, DataLoader\n",
    "\n",
    "sys.path.append(os.getcwd())\n",
    "import models\n"
   ]
  },
  {
   "cell_type": "code",
   "execution_count": 36,
   "metadata": {},
   "outputs": [],
   "source": [
    "# Import the keys\n",
    "keys = list(np.load(\"keys/all_keys.npy\"))\n",
    "keys = [tuple(k) for k in keys]\n",
    "\n",
    "# Import the data and labels\n",
    "mi_matrices = {\n",
    "    key:np.load(f\"MI_matrices/MI_matrix_{key}.npy\") for key in keys\n",
    "}\n",
    "data = {\n",
    "    key:np.load(f\"data/data_{key}.npy\") for key in keys\n",
    "}\n",
    "\n",
    "# Sort data into a list, with the same ordering as the MI_matrices\n",
    "mi_matrices_list = list()\n",
    "data_list = list()\n",
    "for key in keys:\n",
    "    mi_matrices_list.append(mi_matrices[key])\n",
    "    data_list.append(data[key])"
   ]
  },
  {
   "cell_type": "code",
   "execution_count": null,
   "metadata": {},
   "outputs": [],
   "source": [
    "# Hyperparams\n",
    "device = torch.device('cuda' if torch.cuda.is_available() else 'cpu')\n",
    "batch_size=12\n",
    "learning_rate = 0.01\n",
    "num_epochs = 5\n",
    "input_size = 5000"
   ]
  },
  {
   "cell_type": "code",
   "execution_count": 39,
   "metadata": {},
   "outputs": [],
   "source": [
    "# Numpify the data\n",
    "data = np.asarray(data_list).reshape((48, 5000, 11))\n",
    "labels = np.array(mi_matrices_list).reshape((48, 11, 11))\n",
    "\n",
    "# Split the data into train and test\n",
    "data_train, data_test, label_train, label_test = tts(data, labels, test_size=0.1)\n",
    "\n",
    "# Modify variable type to tensor\n",
    "data_train = models.NumbersDataset(data_train, label_train)\n",
    "data_test = models.NumbersDataset(data_test, label_test)\n",
    "\n",
    "# Create the dataloaders\n",
    "loader_train = DataLoader(data_train, batch_size=batch_size, shuffle=True)\n",
    "loader_test = DataLoader(data_test, batch_size=batch_size, shuffle=True)"
   ]
  }
 ],
 "metadata": {
  "kernelspec": {
   "display_name": "Python 3.10.6 ('uni_python')",
   "language": "python",
   "name": "python3"
  },
  "language_info": {
   "codemirror_mode": {
    "name": "ipython",
    "version": 3
   },
   "file_extension": ".py",
   "mimetype": "text/x-python",
   "name": "python",
   "nbconvert_exporter": "python",
   "pygments_lexer": "ipython3",
   "version": "3.10.6"
  },
  "orig_nbformat": 4,
  "vscode": {
   "interpreter": {
    "hash": "dffeb5d5d60ad7e8157925030d2fb867867025db2e2d26da9e7bf712089e2da9"
   }
  }
 },
 "nbformat": 4,
 "nbformat_minor": 2
}

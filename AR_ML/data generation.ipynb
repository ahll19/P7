{
 "cells": [
  {
   "cell_type": "code",
   "execution_count": 79,
   "metadata": {
    "pycharm": {
     "name": "#%%\n"
    }
   },
   "outputs": [],
   "source": [
    "import pandas as pd\n",
    "import numpy as np\n",
    "import statsmodels as sm\n",
    "from statsmodels.tsa.api import VAR\n",
    "from scipy.signal import detrend\n",
    "import datetime as dt\n",
    "\n",
    "\n",
    "from pandas.plotting import register_matplotlib_converters\n",
    "import matplotlib\n",
    "matplotlib.use(\"TkAgg\")\n",
    "import matplotlib.pyplot as plt\n",
    "\n",
    "# Plot setup\n",
    "register_matplotlib_converters()\n",
    "plt.rc(\"figure\", figsize=(12, 8))\n",
    "plt.rc(\"font\", size=13)"
   ]
  },
  {
   "cell_type": "code",
   "execution_count": 80,
   "metadata": {},
   "outputs": [],
   "source": [
    "data = pd.read_csv(\"gdp_pc.csv\")"
   ]
  },
  {
   "cell_type": "code",
   "execution_count": 81,
   "metadata": {},
   "outputs": [],
   "source": [
    "# get countries into a list so we can remove individual countries\n",
    "countries_list = [\n",
    "    data[data[\"Country Name\"] == name].drop(columns=[\"Country Code\"])\n",
    "    for name in data[\"Country Name\"].unique()\n",
    "]\n",
    "\n",
    "# turn list into a dict with name being the key\n",
    "_countries_dict = {}\n",
    "for country in countries_list:\n",
    "    key = country[\"Country Name\"].to_list()[0]\n",
    "    _countries_dict[key] = country.drop(columns=[\"Country Name\"])"
   ]
  },
  {
   "cell_type": "code",
   "execution_count": 82,
   "metadata": {},
   "outputs": [
    {
     "name": "stdout",
     "output_type": "stream",
     "text": [
      "Removed 117 entries of 256. New len is 139\n"
     ]
    }
   ],
   "source": [
    "# Remove countries if they dont have min_len entries\n",
    "len_before = len(_countries_dict)\n",
    "countries_dict = {}\n",
    "min_len = 50\n",
    "\n",
    "for key in _countries_dict:\n",
    "    if _countries_dict[key].__len__() >= min_len:\n",
    "        countries_dict[key] = _countries_dict[key]\n",
    "\n",
    "len_after = len(countries_dict)\n",
    "print(f\"Removed {len_before - len_after} entries of {len_before}. New len is {len_after}\")"
   ]
  },
  {
   "cell_type": "code",
   "execution_count": 83,
   "metadata": {},
   "outputs": [
    {
     "name": "stdout",
     "output_type": "stream",
     "text": [
      "The data will be drawn from 1967 to 2013\n"
     ]
    }
   ],
   "source": [
    "# Find the limits of the dates.\n",
    "# we find the latest first entry, and the earliest last entry and cut\n",
    "# each of the series to fit these dates\n",
    "latest_first = 1000\n",
    "earlist_last = 3000\n",
    "\n",
    "for key, country in countries_dict.items():\n",
    "    if latest_first < country[\"Year\"].to_list()[0]:\n",
    "        latest_first = country[\"Year\"].to_list()[0]\n",
    "    \n",
    "    if earlist_last > country[\"Year\"].to_list()[-1]:\n",
    "        earlist_last = country[\"Year\"].to_list()[-1]\n",
    "\n",
    "print(f\"The data will be drawn from {latest_first} to {earlist_last}\")\n",
    "\n",
    "for key, country in countries_dict.items():\n",
    "    country.drop(country[country[\"Year\"] < latest_first].index, inplace=True)\n",
    "    country.drop(country[country[\"Year\"] > earlist_last].index, inplace=True)\n",
    "\n",
    "years = [year for year in range(latest_first, earlist_last+1)]"
   ]
  },
  {
   "cell_type": "code",
   "execution_count": 84,
   "metadata": {},
   "outputs": [
    {
     "name": "stdout",
     "output_type": "stream",
     "text": [
      "Deleted 3 of 139 entries\n"
     ]
    }
   ],
   "source": [
    "# Remove entries that have missing years in the range specified\n",
    "num_years = max([country.__len__()] for key, country in countries_dict.items())[0]\n",
    "del_keys = []\n",
    "\n",
    "for key, country in countries_dict.items():\n",
    "    if len(country) != num_years:\n",
    "        del_keys.append(key)\n",
    "\n",
    "for key in del_keys:\n",
    "    del countries_dict[key]\n",
    "\n",
    "print(f\"Deleted {len(del_keys)} of {len_after} entries\")"
   ]
  },
  {
   "cell_type": "code",
   "execution_count": 85,
   "metadata": {},
   "outputs": [],
   "source": [
    "# Remove the trend from each country, such that each process is stationary\n",
    "# (fits a first order polynomial using least squares, and subtracts it from the data)\n",
    "# if breakpoints are specified the data will have multiple polynomials fitted to it\n",
    "# and removed from it.\n",
    "countries_detrend = {}\n",
    "breakpoints = [10, 20, 30, 40]\n",
    "# breakpoints = None\n",
    "\n",
    "for key, country in countries_dict.items():\n",
    "    if breakpoints is None:\n",
    "        countries_detrend[key] = detrend(country.values[:, 1])\n",
    "    else:\n",
    "        countries_detrend[key] = detrend(\n",
    "            country.values[:, 1], bp=breakpoints\n",
    "        )\n",
    "\n",
    "detrended_data = pd.DataFrame(countries_detrend, index=years)\n",
    "\n",
    "# Only look at countries. Since the amount of data is too large otherwise\n",
    "start_appending = False\n",
    "countries_data = pd.DataFrame()\n",
    "for i, col in enumerate(detrended_data.columns.values):\n",
    "    if col == \"Algeria\":\n",
    "        start_appending = True\n",
    "\n",
    "    if start_appending:\n",
    "        countries_data = pd.concat([detrended_data, detrended_data[col]], axis=1)\n",
    "\n",
    "countries_data.index = pd.to_datetime([dt.date(year=val, month=1, day=1) for val in countries_data.index.values])"
   ]
  },
  {
   "cell_type": "markdown",
   "metadata": {},
   "source": [
    "## Grouping of the data\n",
    "There are 104 countries in the table, which is too many to create the data we want to. Instead we're going to create 13 groups, with 8 countries in each of them. This will be done to avoid combinatorial explosion in the amount of data. \n",
    "\n",
    "The code below is used to determine the groupings of the data, by showing which countries have a high amount of mutual information"
   ]
  },
  {
   "cell_type": "code",
   "execution_count": 237,
   "metadata": {},
   "outputs": [
    {
     "name": "stderr",
     "output_type": "stream",
     "text": [
      "/home/andersaau/uni_python/lib/python3.10/site-packages/statsmodels/tsa/base/tsa_model.py:471: ValueWarning: No frequency information was provided, so inferred frequency AS-JAN will be used.\n",
      "  self._init_dates(dates, freq)\n"
     ]
    }
   ],
   "source": [
    "from generator import varp\n",
    "samples = 7\n",
    "\n",
    "# subset = countries_data.sample(samples, axis=1).resample(\"D\").mean().interpolate(method=\"linear\")\n",
    "subset = countries_data.sample(samples, axis=1)\n",
    "\n",
    "model = VAR(subset)\n",
    "results = model.fit(1)\n",
    "coefs = results.coefs\n",
    "var = results.sigma_u.to_numpy()\n",
    "\n",
    "sim_result, cov = varp.simulate_VAR(coefs, var, len(countries_data))\n",
    "\n",
    "fig, ax = plt.subplots(nrows=1, ncols=2)\n",
    "ax[0].plot(sim_result, label=subset.columns)\n",
    "ax[0].legend()\n",
    "ax[0].set_title(\"Sim\")\n",
    "subset.plot(ax=ax[1])\n",
    "ax[1].set_title(\"Real\")\n",
    "plt.show()"
   ]
  }
 ],
 "metadata": {
  "kernelspec": {
   "display_name": "Python 3.10.6 ('uni_python')",
   "language": "python",
   "name": "python3"
  },
  "language_info": {
   "codemirror_mode": {
    "name": "ipython",
    "version": 3
   },
   "file_extension": ".py",
   "mimetype": "text/x-python",
   "name": "python",
   "nbconvert_exporter": "python",
   "pygments_lexer": "ipython3",
   "version": "3.10.6"
  },
  "vscode": {
   "interpreter": {
    "hash": "dffeb5d5d60ad7e8157925030d2fb867867025db2e2d26da9e7bf712089e2da9"
   }
  }
 },
 "nbformat": 4,
 "nbformat_minor": 2
}

{
 "cells": [
  {
   "cell_type": "code",
   "execution_count": 32,
   "metadata": {
    "pycharm": {
     "name": "#%%\n"
    }
   },
   "outputs": [],
   "source": [
    "import pandas as pd\n",
    "import statsmodels as sm\n",
    "from scipy.signal import detrend\n",
    "import matplotlib.pyplot as plt"
   ]
  },
  {
   "cell_type": "code",
   "execution_count": 2,
   "metadata": {},
   "outputs": [],
   "source": [
    "data = pd.read_csv(\"gdp_pc.csv\")"
   ]
  },
  {
   "cell_type": "code",
   "execution_count": 3,
   "metadata": {},
   "outputs": [],
   "source": [
    "# get countries into a list so we can remove individual countries\n",
    "countries_list = [\n",
    "    data[data[\"Country Name\"] == name].drop(columns=[\"Country Code\"])\n",
    "    for name in data[\"Country Name\"].unique()\n",
    "]\n",
    "\n",
    "# turn list into a dict with name being the key\n",
    "_countries_dict = {}\n",
    "for country in countries_list:\n",
    "    key = country[\"Country Name\"].to_list()[0]\n",
    "    _countries_dict[key] = country.drop(columns=[\"Country Name\"])"
   ]
  },
  {
   "cell_type": "code",
   "execution_count": 4,
   "metadata": {},
   "outputs": [
    {
     "name": "stdout",
     "output_type": "stream",
     "text": [
      "Removed 117 entries of 256. New len is 139\n"
     ]
    }
   ],
   "source": [
    "# Remove countries if they dont have min_len entries\n",
    "len_before = len(_countries_dict)\n",
    "countries_dict = {}\n",
    "min_len = 50\n",
    "\n",
    "for key in _countries_dict:\n",
    "    if _countries_dict[key].__len__() >= min_len:\n",
    "        countries_dict[key] = _countries_dict[key]\n",
    "\n",
    "len_after = len(countries_dict)\n",
    "print(f\"Removed {len_before - len_after} entries of {len_before}. New len is {len_after}\")"
   ]
  },
  {
   "cell_type": "code",
   "execution_count": 58,
   "metadata": {},
   "outputs": [
    {
     "name": "stdout",
     "output_type": "stream",
     "text": [
      "The data will be drawn from 1967 to 2013\n"
     ]
    }
   ],
   "source": [
    "# Find the limits of the dates.\n",
    "# we find the latest first entry, and the earliest last entry and cut\n",
    "# each of the series to fit these dates\n",
    "latest_first = 1000\n",
    "earlist_last = 3000\n",
    "\n",
    "for key, country in countries_dict.items():\n",
    "    if latest_first < country[\"Year\"].to_list()[0]:\n",
    "        latest_first = country[\"Year\"].to_list()[0]\n",
    "    \n",
    "    if earlist_last > country[\"Year\"].to_list()[-1]:\n",
    "        earlist_last = country[\"Year\"].to_list()[-1]\n",
    "\n",
    "print(f\"The data will be drawn from {latest_first} to {earlist_last}\")\n",
    "\n",
    "for key, country in countries_dict.items():\n",
    "    country.drop(country[country[\"Year\"] < latest_first].index, inplace=True)\n",
    "    country.drop(country[country[\"Year\"] > earlist_last].index, inplace=True)\n",
    "\n",
    "years = [year for year in range(latest_first, earlist_last+1)]"
   ]
  },
  {
   "cell_type": "code",
   "execution_count": 59,
   "metadata": {},
   "outputs": [
    {
     "name": "stdout",
     "output_type": "stream",
     "text": [
      "Deleted 0 of 139 entries\n"
     ]
    }
   ],
   "source": [
    "# Remove entries that have missing years in the range specified\n",
    "num_years = max([country.__len__()] for key, country in countries_dict.items())[0]\n",
    "del_keys = []\n",
    "\n",
    "for key, country in countries_dict.items():\n",
    "    if len(country) != num_years:\n",
    "        del_keys.append(key)\n",
    "\n",
    "for key in del_keys:\n",
    "    del countries_dict[key]\n",
    "\n",
    "print(f\"Deleted {len(del_keys)} of {len_after} entries\")"
   ]
  },
  {
   "cell_type": "code",
   "execution_count": 69,
   "metadata": {},
   "outputs": [],
   "source": [
    "# Remove the trend from each country, such that each process is stationary\n",
    "# (fits a first order polynomial using least squares, and subtracts it from the data)\n",
    "# if breakpoints are specified the data will have multiple polynomials fitted to it\n",
    "# and removed from it.\n",
    "countries_detrend = {}\n",
    "# breakpoints = [10, 20, 30, 40]\n",
    "breakpoints = None\n",
    "\n",
    "for key, country in countries_dict.items():\n",
    "    if breakpoints is None:\n",
    "        countries_detrend[key] = detrend(country.values[:, 1])\n",
    "    else:\n",
    "        countries_detrend[key] = detrend(\n",
    "            country.values[:, 1], bp=breakpoints\n",
    "        )\n",
    "\n",
    "new_data = pd.DataFrame(countries_detrend, index=years)"
   ]
  },
  {
   "cell_type": "code",
   "execution_count": null,
   "metadata": {},
   "outputs": [],
   "source": []
  },
  {
   "cell_type": "code",
   "execution_count": null,
   "metadata": {},
   "outputs": [],
   "source": []
  },
  {
   "cell_type": "code",
   "execution_count": null,
   "metadata": {},
   "outputs": [],
   "source": []
  },
  {
   "cell_type": "code",
   "execution_count": null,
   "metadata": {},
   "outputs": [],
   "source": []
  },
  {
   "cell_type": "code",
   "execution_count": null,
   "metadata": {},
   "outputs": [],
   "source": []
  },
  {
   "cell_type": "code",
   "execution_count": null,
   "metadata": {},
   "outputs": [],
   "source": []
  },
  {
   "cell_type": "code",
   "execution_count": null,
   "metadata": {},
   "outputs": [],
   "source": []
  },
  {
   "cell_type": "code",
   "execution_count": null,
   "metadata": {},
   "outputs": [],
   "source": []
  },
  {
   "cell_type": "code",
   "execution_count": null,
   "metadata": {},
   "outputs": [],
   "source": []
  },
  {
   "cell_type": "code",
   "execution_count": null,
   "metadata": {},
   "outputs": [],
   "source": []
  },
  {
   "cell_type": "code",
   "execution_count": null,
   "metadata": {},
   "outputs": [],
   "source": []
  }
 ],
 "metadata": {
  "kernelspec": {
   "display_name": "Python 3 (ipykernel)",
   "language": "python",
   "name": "python3"
  },
  "language_info": {
   "codemirror_mode": {
    "name": "ipython",
    "version": 3
   },
   "file_extension": ".py",
   "mimetype": "text/x-python",
   "name": "python",
   "nbconvert_exporter": "python",
   "pygments_lexer": "ipython3",
   "version": "3.10.8"
  }
 },
 "nbformat": 4,
 "nbformat_minor": 2
}

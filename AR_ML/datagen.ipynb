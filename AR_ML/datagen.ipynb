{
 "cells": [
  {
   "cell_type": "markdown",
   "metadata": {},
   "source": [
    "# Data generation for VAR data for ML"
   ]
  },
  {
   "cell_type": "code",
   "execution_count": 1,
   "metadata": {},
   "outputs": [],
   "source": [
    "import pandas as pd\n",
    "import numpy as np\n",
    "import statsmodels as sm\n",
    "from statsmodels.tsa.api import VAR\n",
    "from scipy.signal import detrend\n",
    "import datetime as dt\n",
    "\n",
    "# remove\n",
    "from pandas.plotting import register_matplotlib_converters\n",
    "import matplotlib\n",
    "matplotlib.use(\"TkAgg\")\n",
    "import matplotlib.pyplot as plt\n",
    "register_matplotlib_converters()\n",
    "plt.rc(\"figure\", figsize=(12, 8))\n",
    "plt.rc(\"font\", size=13)"
   ]
  },
  {
   "cell_type": "markdown",
   "metadata": {},
   "source": [
    "## Data\n",
    "1. import the data\n",
    "2. remove data entries where there are less than 50 data-points\n",
    "3. limit these entries to a window of time where all remaining entries have data\n",
    "4. Remove trends from the data by fitting first order polynomials to the data in certain ranges, and subtracting this from the data"
   ]
  },
  {
   "cell_type": "code",
   "execution_count": 2,
   "metadata": {},
   "outputs": [
    {
     "name": "stdout",
     "output_type": "stream",
     "text": [
      "Removed 117 entries of 256. New len is 139\n",
      "The data will be drawn from 1967 to 2013\n",
      "Deleted 3 of 139 entries\n"
     ]
    }
   ],
   "source": [
    "data = pd.read_csv(\"gdp_pc.csv\")\n",
    "\n",
    "# get countries into a list so we can remove individual countries\n",
    "countries_list = [\n",
    "    data[data[\"Country Name\"] == name].drop(columns=[\"Country Code\"])\n",
    "    for name in data[\"Country Name\"].unique()\n",
    "]\n",
    "\n",
    "# turn list into a dict with name being the key\n",
    "_countries_dict = {}\n",
    "for country in countries_list:\n",
    "    key = country[\"Country Name\"].to_list()[0]\n",
    "    _countries_dict[key] = country.drop(columns=[\"Country Name\"])\n",
    "\n",
    "# Remove countries if they dont have min_len entries\n",
    "len_before = len(_countries_dict)\n",
    "countries_dict = {}\n",
    "min_len = 50\n",
    "\n",
    "for key in _countries_dict:\n",
    "    if _countries_dict[key].__len__() >= min_len:\n",
    "        countries_dict[key] = _countries_dict[key]\n",
    "\n",
    "len_after = len(countries_dict)\n",
    "print(f\"Removed {len_before - len_after} entries of {len_before}. New len is {len_after}\")\n",
    "\n",
    "# Find the limits of the dates.\n",
    "# we find the latest first entry, and the earliest last entry and cut\n",
    "# each of the series to fit these dates\n",
    "latest_first = 1000\n",
    "earlist_last = 3000\n",
    "\n",
    "for key, country in countries_dict.items():\n",
    "    if latest_first < country[\"Year\"].to_list()[0]:\n",
    "        latest_first = country[\"Year\"].to_list()[0]\n",
    "    \n",
    "    if earlist_last > country[\"Year\"].to_list()[-1]:\n",
    "        earlist_last = country[\"Year\"].to_list()[-1]\n",
    "\n",
    "print(f\"The data will be drawn from {latest_first} to {earlist_last}\")\n",
    "\n",
    "for key, country in countries_dict.items():\n",
    "    country.drop(country[country[\"Year\"] < latest_first].index, inplace=True)\n",
    "    country.drop(country[country[\"Year\"] > earlist_last].index, inplace=True)\n",
    "\n",
    "years = [year for year in range(latest_first, earlist_last+1)]\n",
    "\n",
    "# Remove entries that have missing years in the range specified\n",
    "num_years = max([country.__len__()] for key, country in countries_dict.items())[0]\n",
    "del_keys = []\n",
    "\n",
    "for key, country in countries_dict.items():\n",
    "    if len(country) != num_years:\n",
    "        del_keys.append(key)\n",
    "\n",
    "for key in del_keys:\n",
    "    del countries_dict[key]\n",
    "\n",
    "print(f\"Deleted {len(del_keys)} of {len_after} entries\")\n",
    "\n",
    "# Remove the trend from each country, such that each process is stationary\n",
    "# (fits a first order polynomial using least squares, and subtracts it from the data)\n",
    "# if breakpoints are specified the data will have multiple polynomials fitted to it\n",
    "# and removed from it.\n",
    "countries_detrend = {}\n",
    "breakpoints = [10, 20, 30, 40]\n",
    "# breakpoints = None\n",
    "\n",
    "for key, country in countries_dict.items():\n",
    "    if breakpoints is None:\n",
    "        countries_detrend[key] = detrend(country.values[:, 1])\n",
    "    else:\n",
    "        countries_detrend[key] = detrend(\n",
    "            country.values[:, 1], bp=breakpoints\n",
    "        )\n",
    "\n",
    "detrended_data = pd.DataFrame(countries_detrend, index=years)\n",
    "\n",
    "# Dont know why this doesnt remove non-contries, but it's keept for the formatting\n",
    "# THE NEXT COMMENT IS WRONG\n",
    "# Only look at countries. Since the amount of data is too large otherwise\n",
    "start_appending = False\n",
    "countries_data = pd.DataFrame()\n",
    "for i, col in enumerate(detrended_data.columns.values):\n",
    "    if col == \"Algeria\":\n",
    "        start_appending = True\n",
    "\n",
    "    if start_appending:\n",
    "        countries_data = pd.concat([detrended_data, detrended_data[col]], axis=1)\n",
    "\n",
    "countries_data.index = pd.to_datetime([dt.date(year=val, month=1, day=1) for val in countries_data.index.values])"
   ]
  },
  {
   "cell_type": "markdown",
   "metadata": {},
   "source": [
    "## Data setup"
   ]
  },
  {
   "cell_type": "code",
   "execution_count": 3,
   "metadata": {},
   "outputs": [],
   "source": [
    "import pickle\n",
    "from generator import varp\n",
    "import itertools\n",
    "from math import floor\n",
    "\n",
    "\n",
    "def generate_data(data, model_order, samples, choose, N):\n",
    "    iterations = floor(len(data.columns) / samples)\n",
    "    dat = data.copy()\n",
    "    save_str = f\"order_{model_order} samples_{samples} choose{choose}\"\n",
    "    save_dict = dict()\n",
    "\n",
    "    for i in range(iterations):\n",
    "        subset = data.sample(samples, axis=1)\n",
    "        data.drop(columns=subset.columns)\n",
    "        cols = subset.columns\n",
    "        subset = subset.to_numpy()\n",
    "\n",
    "        combi = list(itertools.combinations(list(range(samples)), choose))\n",
    "        for comb in combi:\n",
    "            chosen_cols = cols[list(comb)]\n",
    "\n",
    "            model = VAR(subset[:, comb])\n",
    "            result = model.fit(model_order)\n",
    "            coefs = result.coefs\n",
    "            var = result.sigma_u\n",
    "\n",
    "            sim_result, cov = varp.simulate_VAR(coefs, var, N)\n",
    "\n",
    "            mis = np.zeros((choose, choose))\n",
    "            idxs = list(itertools.combinations(list(range(choose)), 2))\n",
    "\n",
    "            for idx in idxs:\n",
    "                mi = varp.calculate_MI(idx[0], idx[1], cov)\n",
    "                mis[idx[0], idx[1]] = mi\n",
    "                mis[idx[1], idx[0]] = mi\n",
    "            \n",
    "            combi_key = \"\"\n",
    "            for col in chosen_cols.to_list():\n",
    "                combi_key += col + \" - \"\n",
    "            combi_key = combi_key[:-3]\n",
    "\n",
    "            save_dict[combi_key] = (sim_result, mis)\n",
    "    \n",
    "    with open(f\"data/{save_str}.pkl\", 'wb') as f:\n",
    "        pickle.dump(save_dict, f)"
   ]
  },
  {
   "cell_type": "markdown",
   "metadata": {},
   "source": [
    "## Generate the data"
   ]
  },
  {
   "cell_type": "code",
   "execution_count": 4,
   "metadata": {},
   "outputs": [],
   "source": [
    "generate_data(\n",
    "    data=countries_data,\n",
    "    model_order=2,\n",
    "    samples=5,\n",
    "    choose=3,\n",
    "    N=500\n",
    ")\n",
    "generate_data(\n",
    "    data=countries_data,\n",
    "    model_order=1,\n",
    "    samples=7,\n",
    "    choose=3,\n",
    "    N=500\n",
    ")"
   ]
  }
 ],
 "metadata": {
  "kernelspec": {
   "display_name": "Python 3.10.6 ('uni_python')",
   "language": "python",
   "name": "python3"
  },
  "language_info": {
   "codemirror_mode": {
    "name": "ipython",
    "version": 3
   },
   "file_extension": ".py",
   "mimetype": "text/x-python",
   "name": "python",
   "nbconvert_exporter": "python",
   "pygments_lexer": "ipython3",
   "version": "3.10.6"
  },
  "orig_nbformat": 4,
  "vscode": {
   "interpreter": {
    "hash": "dffeb5d5d60ad7e8157925030d2fb867867025db2e2d26da9e7bf712089e2da9"
   }
  }
 },
 "nbformat": 4,
 "nbformat_minor": 2
}

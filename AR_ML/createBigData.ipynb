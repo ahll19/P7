{
 "cells": [
  {
   "cell_type": "code",
   "execution_count": 1,
   "metadata": {},
   "outputs": [],
   "source": [
    "import pandas as pd"
   ]
  },
  {
   "cell_type": "code",
   "execution_count": 18,
   "metadata": {},
   "outputs": [],
   "source": [
    "data = pd.read_csv(\"~/Documents/P7/AR data/wfpvam_foodprices.csv\", low_memory=False)"
   ]
  },
  {
   "cell_type": "code",
   "execution_count": 35,
   "metadata": {},
   "outputs": [
    {
     "data": {
      "text/plain": [
       "array(['Afghanistan', 'Algeria', 'Angola', 'Argentina', 'Armenia',\n",
       "       'Azerbaijan', 'Bangladesh', 'Bassas da India', 'Belarus', 'Benin',\n",
       "       'Bhutan', 'Bolivia', 'Burkina Faso', 'Burundi', 'Cambodia',\n",
       "       'Cameroon', 'Cape Verde', 'Central African Republic', 'Chad',\n",
       "       'China', 'Colombia', 'Congo', 'Costa Rica', \"Cote d'Ivoire\",\n",
       "       'Democratic Republic of the Congo', 'Djibouti',\n",
       "       'Dominican Republic', 'Ecuador', 'Egypt', 'El Salvador', 'Eritrea',\n",
       "       'Ethiopia', 'Gabon', 'Gambia', 'Georgia', 'Ghana', 'Guatemala',\n",
       "       'Guinea', 'Guinea-Bissau', 'Haiti', 'Honduras', 'Indonesia',\n",
       "       'Iran  (Islamic Republic of)', 'Iraq', 'Japan', 'Jordan',\n",
       "       'Kazakhstan', 'Kenya', 'Kyrgyzstan',\n",
       "       \"Lao People's Democratic Republic\", 'Lebanon', 'Lesotho',\n",
       "       'Liberia', 'Libya', 'Madagascar', 'Malawi', 'Mali', 'Mauritania',\n",
       "       'Mexico', 'Moldova Republic of', 'Mongolia', 'Mozambique',\n",
       "       'Myanmar', 'Namibia', 'Nepal', 'Nicaragua', 'Niger', 'Nigeria',\n",
       "       'Pakistan', 'Panama', 'Paraguay', 'Peru', 'Philippines',\n",
       "       'Russian Federation', 'Rwanda', 'Senegal', 'Sierra Leone',\n",
       "       'Somalia', 'South Africa', 'South Sudan', 'Sri Lanka',\n",
       "       'State of Palestine', 'Sudan', 'Swaziland', 'Syrian Arab Republic',\n",
       "       'Tajikistan', 'Thailand', 'Timor-Leste', 'Togo', 'Turkey',\n",
       "       'Uganda', 'Ukraine', 'United Republic of Tanzania', 'Venezuela',\n",
       "       'Viet Nam', 'Yemen', 'Zambia', 'Zimbabwe'], dtype=object)"
      ]
     },
     "execution_count": 35,
     "metadata": {},
     "output_type": "execute_result"
    }
   ],
   "source": [
    "data[\"adm0_name\"].unique()"
   ]
  }
 ],
 "metadata": {
  "kernelspec": {
   "display_name": "Python 3.10.6 ('uni_python')",
   "language": "python",
   "name": "python3"
  },
  "language_info": {
   "codemirror_mode": {
    "name": "ipython",
    "version": 3
   },
   "file_extension": ".py",
   "mimetype": "text/x-python",
   "name": "python",
   "nbconvert_exporter": "python",
   "pygments_lexer": "ipython3",
   "version": "3.10.6"
  },
  "orig_nbformat": 4,
  "vscode": {
   "interpreter": {
    "hash": "dffeb5d5d60ad7e8157925030d2fb867867025db2e2d26da9e7bf712089e2da9"
   }
  }
 },
 "nbformat": 4,
 "nbformat_minor": 2
}

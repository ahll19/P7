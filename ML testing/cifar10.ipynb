{
 "cells": [
  {
   "cell_type": "markdown",
   "source": [
    "# CIFAR 10\n",
    "Brug af CNN istedet for et normal forward neural network.\n",
    "Bruger [denne](https://www.youtube.com/watch?v=pDdP0TFzsoQ&t=3s) tutorial.\n",
    "Her bliver matrice foldning involveret til forskel fra vanilla NN.\n",
    "Vi vil også bruge max-pooling (tager max fra et område i en matrice. Bruges for at reducere størrelsen af billedet, og hjælper imod overfitting)"
   ],
   "metadata": {
    "collapsed": false,
    "pycharm": {
     "name": "#%% md\n"
    }
   }
  },
  {
   "cell_type": "code",
   "execution_count": 10,
   "outputs": [],
   "source": [
    "import torch\n",
    "import torchvision\n",
    "import torch.nn.functional as fun\n",
    "import torch.nn as nn\n",
    "import numpy as np\n",
    "import torchvision.transforms as transforms\n",
    "import matplotlib.pyplot as plt"
   ],
   "metadata": {
    "collapsed": false,
    "pycharm": {
     "name": "#%%\n"
    }
   }
  },
  {
   "cell_type": "code",
   "execution_count": 6,
   "outputs": [
    {
     "name": "stdout",
     "output_type": "stream",
     "text": [
      "Files already downloaded and verified\n",
      "Files already downloaded and verified\n"
     ]
    }
   ],
   "source": [
    "# choose device\n",
    "device = torch.device(\"cuda\" if torch.cuda.is_available() else \"cpu\")\n",
    "\n",
    "# Hyper-parameters\n",
    "num_epochs = 5\n",
    "batch_size = 4\n",
    "learning_rate = 0.001\n",
    "\n",
    "# dataset has PILImage images of range [0, 1].\n",
    "# We transform them to Tensors of normalized range [-1, 1]\n",
    "transform = transforms.Compose(\n",
    "    [transforms.ToTensor(),\n",
    "     transforms.Normalize((0.5, 0.5, 0.5), (0.5, 0.5, 0.5))])\n",
    "\n",
    "# CIFAR10: 60000 32x32 color images in 10 classes, with 6000 images per class\n",
    "train_dataset = torchvision.datasets.CIFAR10(root='./data_CIFAR10', train=True,\n",
    "                                             download=True, transform=transform)\n",
    "\n",
    "test_dataset = torchvision.datasets.CIFAR10(root='./data_CIFAR10', train=False,\n",
    "                                            download=True, transform=transform)\n",
    "\n",
    "train_loader = torch.utils.data.DataLoader(train_dataset, batch_size=batch_size,\n",
    "                                           shuffle=True)\n",
    "\n",
    "test_loader = torch.utils.data.DataLoader(test_dataset, batch_size=batch_size,\n",
    "                                          shuffle=False)\n",
    "\n",
    "classes = ('plane', 'car', 'bird', 'cat',\n",
    "           'deer', 'dog', 'frog', 'horse', 'ship', 'truck')\n",
    "\n",
    "def imshow(img):\n",
    "    img = img / 2 + 0.5  # un-normalize\n",
    "    np_img = img.numpy()\n",
    "    plt.imshow(np.transpose(np_img, (1, 2, 0)))\n",
    "    plt.show()"
   ],
   "metadata": {
    "collapsed": false,
    "pycharm": {
     "name": "#%%\n"
    }
   }
  },
  {
   "cell_type": "code",
   "execution_count": 11,
   "outputs": [
    {
     "data": {
      "text/plain": "<Figure size 640x480 with 1 Axes>",
      "image/png": "[encoded data removed]"
     },
     "metadata": {},
     "output_type": "display_data"
    }
   ],
   "source": [
    "# get some random training images\n",
    "dataiter = iter(train_loader)\n",
    "images, labels = dataiter.next()\n",
    "\n",
    "# show images\n",
    "imshow(torchvision.utils.make_grid(images))"
   ],
   "metadata": {
    "collapsed": false,
    "pycharm": {
     "name": "#%%\n"
    }
   }
  },
  {
   "cell_type": "code",
   "execution_count": 13,
   "outputs": [],
   "source": [
    "class ConvNet(nn.Module):\n",
    "    def __init__(self):\n",
    "        super(ConvNet, self).__init__()\n",
    "        self.conv1 = nn.Conv2d(3, 6, 5)\n",
    "        self.pool = nn.MaxPool2d(2, 2)\n",
    "        self.conv2 = nn.Conv2d(6, 16, 5)\n",
    "        self.fc1 = nn.Linear(16 * 5 * 5, 120)\n",
    "        self.fc2 = nn.Linear(120, 84)\n",
    "        self.fc3 = nn.Linear(84, 10)\n",
    "\n",
    "    def forward(self, x):\n",
    "        # -> n, 3, 32, 32\n",
    "        x = self.pool(fun.relu(self.conv1(x)))  # -> n, 6, 14, 14\n",
    "        x = self.pool(fun.relu(self.conv2(x)))  # -> n, 16, 5, 5\n",
    "        x = x.view(-1, 16 * 5 * 5)            # -> n, 400\n",
    "        x = fun.relu(self.fc1(x))               # -> n, 120\n",
    "        x = fun.relu(self.fc2(x))               # -> n, 84\n",
    "        x = self.fc3(x)                       # -> n, 10\n",
    "        return x\n",
    "\n",
    "\n",
    "model = ConvNet().to(device)\n",
    "\n",
    "criterion = nn.CrossEntropyLoss()\n",
    "optimizer = torch.optim.SGD(model.parameters(), lr=learning_rate)"
   ],
   "metadata": {
    "collapsed": false,
    "pycharm": {
     "name": "#%%\n"
    }
   }
  },
  {
   "cell_type": "code",
   "execution_count": 14,
   "outputs": [
    {
     "name": "stdout",
     "output_type": "stream",
     "text": [
      "Epoch [1/5], Step [2000/12500], Loss: 2.3171\n",
      "Epoch [1/5], Step [4000/12500], Loss: 2.2917\n",
      "Epoch [1/5], Step [6000/12500], Loss: 2.3197\n",
      "Epoch [1/5], Step [8000/12500], Loss: 2.2833\n",
      "Epoch [1/5], Step [10000/12500], Loss: 2.3169\n",
      "Epoch [1/5], Step [12000/12500], Loss: 2.5011\n",
      "Epoch [2/5], Step [2000/12500], Loss: 2.6114\n",
      "Epoch [2/5], Step [4000/12500], Loss: 2.1385\n",
      "Epoch [2/5], Step [6000/12500], Loss: 1.9416\n",
      "Epoch [2/5], Step [8000/12500], Loss: 1.6122\n",
      "Epoch [2/5], Step [10000/12500], Loss: 2.0680\n",
      "Epoch [2/5], Step [12000/12500], Loss: 1.7220\n",
      "Epoch [3/5], Step [2000/12500], Loss: 1.9065\n",
      "Epoch [3/5], Step [4000/12500], Loss: 1.8237\n",
      "Epoch [3/5], Step [6000/12500], Loss: 1.7159\n",
      "Epoch [3/5], Step [8000/12500], Loss: 1.8377\n",
      "Epoch [3/5], Step [10000/12500], Loss: 2.1409\n",
      "Epoch [3/5], Step [12000/12500], Loss: 1.3378\n",
      "Epoch [4/5], Step [2000/12500], Loss: 1.1485\n",
      "Epoch [4/5], Step [4000/12500], Loss: 2.3606\n",
      "Epoch [4/5], Step [6000/12500], Loss: 1.6577\n",
      "Epoch [4/5], Step [8000/12500], Loss: 1.9013\n",
      "Epoch [4/5], Step [10000/12500], Loss: 1.3739\n",
      "Epoch [4/5], Step [12000/12500], Loss: 0.8116\n",
      "Epoch [5/5], Step [2000/12500], Loss: 1.2703\n",
      "Epoch [5/5], Step [4000/12500], Loss: 0.6475\n",
      "Epoch [5/5], Step [6000/12500], Loss: 0.9423\n",
      "Epoch [5/5], Step [8000/12500], Loss: 0.6832\n",
      "Epoch [5/5], Step [10000/12500], Loss: 0.8841\n",
      "Epoch [5/5], Step [12000/12500], Loss: 1.7551\n",
      "Finished Training\n"
     ]
    }
   ],
   "source": [
    "n_total_steps = len(train_loader)\n",
    "for epoch in range(num_epochs):\n",
    "    for i, (images, labels) in enumerate(train_loader):\n",
    "        # origin shape: [4, 3, 32, 32] = 4, 3, 1024\n",
    "        # input_layer: 3 input channels, 6 output channels, 5 kernel size\n",
    "        images = images.to(device)\n",
    "        labels = labels.to(device)\n",
    "\n",
    "        # Forward pass\n",
    "        outputs = model(images)\n",
    "        loss = criterion(outputs, labels)\n",
    "\n",
    "        # Backward and optimize\n",
    "        optimizer.zero_grad()\n",
    "        loss.backward()\n",
    "        optimizer.step()\n",
    "\n",
    "        if (i+1) % 2000 == 0:\n",
    "            print (f'Epoch [{epoch+1}/{num_epochs}], Step [{i+1}/{n_total_steps}], Loss: {loss.item():.4f}')\n",
    "\n",
    "print('Finished Training')"
   ],
   "metadata": {
    "collapsed": false,
    "pycharm": {
     "name": "#%%\n"
    }
   }
  },
  {
   "cell_type": "code",
   "execution_count": 15,
   "outputs": [
    {
     "name": "stdout",
     "output_type": "stream",
     "text": [
      "Accuracy of the network: 48.79 %\n",
      "Accuracy of plane: 59.0 %\n",
      "Accuracy of car: 61.3 %\n",
      "Accuracy of bird: 15.7 %\n",
      "Accuracy of cat: 16.3 %\n",
      "Accuracy of deer: 44.9 %\n",
      "Accuracy of dog: 43.2 %\n",
      "Accuracy of frog: 60.6 %\n",
      "Accuracy of horse: 62.9 %\n",
      "Accuracy of ship: 58.3 %\n",
      "Accuracy of truck: 65.7 %\n"
     ]
    }
   ],
   "source": [
    "with torch.no_grad():\n",
    "    n_correct = 0\n",
    "    n_samples = 0\n",
    "    n_class_correct = [0 for i in range(10)]\n",
    "    n_class_samples = [0 for i in range(10)]\n",
    "    for images, labels in test_loader:\n",
    "        images = images.to(device)\n",
    "        labels = labels.to(device)\n",
    "        outputs = model(images)\n",
    "        # max returns (value ,index)\n",
    "        _, predicted = torch.max(outputs, 1)\n",
    "        n_samples += labels.size(0)\n",
    "        n_correct += (predicted == labels).sum().item()\n",
    "\n",
    "        for i in range(batch_size):\n",
    "            label = labels[i]\n",
    "            pred = predicted[i]\n",
    "            if (label == pred):\n",
    "                n_class_correct[label] += 1\n",
    "            n_class_samples[label] += 1\n",
    "\n",
    "    acc = 100.0 * n_correct / n_samples\n",
    "    print(f'Accuracy of the network: {acc} %')\n",
    "\n",
    "    for i in range(10):\n",
    "        acc = 100.0 * n_class_correct[i] / n_class_samples[i]\n",
    "        print(f'Accuracy of {classes[i]}: {acc} %')"
   ],
   "metadata": {
    "collapsed": false,
    "pycharm": {
     "name": "#%%\n"
    }
   }
  }
 ],
 "metadata": {
  "kernelspec": {
   "display_name": "Python 3",
   "language": "python",
   "name": "python3"
  },
  "language_info": {
   "codemirror_mode": {
    "name": "ipython",
    "version": 2
   },
   "file_extension": ".py",
   "mimetype": "text/x-python",
   "name": "python",
   "nbconvert_exporter": "python",
   "pygments_lexer": "ipython2",
   "version": "2.7.6"
  }
 },
 "nbformat": 4,
 "nbformat_minor": 0
}
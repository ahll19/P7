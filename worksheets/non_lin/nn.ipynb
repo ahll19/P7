{
 "cells": [
  {
   "cell_type": "markdown",
   "metadata": {},
   "source": [
    "<h2>Data Discription</h2>\n",
    "\n",
    "The data is generated using 4 different non-linear functions,\n",
    "\\begin{align*}\n",
    "    g_0(x) &= a_0\\sin(x), \\\\\n",
    "    g_1(x) &= a_1\\sqrt{x}, \\\\\n",
    "    g_2(x) &= a_2x^3+0.3x, \\\\\n",
    "    g_3(x) &= a_3\\log(1+x),\n",
    "\\end{align*}\n",
    "where $a_i\\sim Unif(0.1,10)$, ($i\\in \\{0,1,2,3 \\}$). Based on these functions we have a procedure for when two time-series are dependent or not.\n",
    "\n",
    "\n",
    "When the two time-series are dependent then we first create a time-series, $X$, based on two different $g$ functions. Then the other time-series, $Y$, is a $g$ function of $X$. When the time-series are independent then $Y$ is generated using the two other $g$ functions than $X$. When they are dependent they are denoted class 1 and when they are not they are denoted class 0. An example of a dependent and independent realisation is seen below.\n",
    "\n",
    "<img src=\"non_lin_plots/independent.png\" width=\"auto\" height=\"300\">\n",
    "<img src=\"non_lin_plots/dependent.png\" width=\"auto\" height=\"300\">\n",
    "\n",
    "<h2>Neural Network Setup</h2>\n",
    "\n",
    "In the following code we use $50,000$ realizations of $X,Y$, where len($X$)=len($Y$)=$1,000$"
   ]
  },
  {
   "cell_type": "code",
   "execution_count": 62,
   "metadata": {},
   "outputs": [],
   "source": [
    "import numpy as np\n",
    "import matplotlib.pyplot as plt\n",
    "from torch.utils.data import DataLoader\n",
    "import torch\n",
    "from sklearn.model_selection import train_test_split as tts\n",
    "import torch.nn as nn\n",
    "from tqdm import tqdm\n",
    "import nn_module as NN"
   ]
  },
  {
   "cell_type": "code",
   "execution_count": 63,
   "metadata": {},
   "outputs": [],
   "source": [
    "data, labels = NN.load_data('data_(10000_1000_2)/nonlin_data.npy')"
   ]
  },
  {
   "cell_type": "code",
   "execution_count": 154,
   "metadata": {},
   "outputs": [],
   "source": [
    "batch_size = 100\n",
    "epochs = 20\n",
    "learning_rate = 0.0001\n",
    "hidden_layers = [500, 500, 500]\n",
    "SNR = 10"
   ]
  },
  {
   "cell_type": "markdown",
   "metadata": {},
   "source": [
    "The input above gives the feed forward neural network:\n",
    "\n",
    "<table>\n",
    "  <tr>\n",
    "    <th>Input Layer</th>\n",
    "    <th>Hidden Layers</th>\n",
    "    <th>Output Layer</th>\n",
    "  </tr>\n",
    "  <tr>\n",
    "    <td>len(X)*2=2,000</td>\n",
    "    <td>-- 500 -- 500 -- 500 --</td>\n",
    "    <td>2</td>\n",
    "  </tr>\n",
    "</table>\n",
    "\n",
    "<h2>Signal to noise ratio</h2>\n",
    "\n",
    "We have tried without extra noise on the $X,Y$ realisations and got that we could classify both class 0 and 1 approximately 90\\% accurately. Hence, we tried adding some noise based on an SNR."
   ]
  },
  {
   "cell_type": "code",
   "execution_count": 155,
   "metadata": {},
   "outputs": [],
   "source": [
    "P_noise = np.mean(data**2, axis=1)/np.full((data.shape[0], \n",
    "                                            data.shape[2]), SNR)\n",
    "\n",
    "noise = np.zeros(data.shape)\n",
    "mu = np.zeros((data.shape[1], 1))\n",
    "for i in range(len(data)):\n",
    "    Xi_noise = np.random.normal(mu.copy(), \n",
    "                                P_noise[i][0], \n",
    "                                (data.shape[1], 1))\n",
    "    \n",
    "    Yi_noise = np.random.normal(mu.copy(), \n",
    "                                P_noise[i][1], \n",
    "                                (data.shape[1], 1))\n",
    "\n",
    "    noise[i] = np.concatenate([Xi_noise, Yi_noise], axis=1)\n",
    "\n",
    "data += noise"
   ]
  },
  {
   "cell_type": "code",
   "execution_count": 156,
   "metadata": {},
   "outputs": [],
   "source": [
    "# This block converts data from np to torch and adjusts \n",
    "# to the desired format for the training and test. \n",
    "\n",
    "data_trn_np, data_tst_np, label_trn_np, label_tst_np = \\\n",
    "    tts(data, labels, test_size=0.1)\n",
    "\n",
    "label_train_reshaped = np.zeros((len(label_trn_np), 2))\n",
    "label_test_reshaped = np.zeros((len(label_tst_np), 2))\n",
    "\n",
    "for i, trn in enumerate(label_trn_np):\n",
    "    label_train_reshaped[i, int(trn)] = 1\n",
    "\n",
    "for i, tst in enumerate(label_tst_np):\n",
    "    label_test_reshaped[i, int(tst)] = 1\n",
    "\n",
    "data_train = NN.NumbersDataset(data_trn_np, label_train_reshaped)\n",
    "data_test = NN.NumbersDataset(data_tst_np, label_test_reshaped)\n",
    "\n",
    "loader_train = DataLoader(\n",
    "    data_train, \n",
    "    batch_size=batch_size, \n",
    "    shuffle=True, \n",
    "    pin_memory=True\n",
    ")\n",
    "\n",
    "loader_test = DataLoader(\n",
    "    data_test, \n",
    "    batch_size=batch_size, \n",
    "    shuffle=True, \n",
    "    pin_memory=True\n",
    ")\n",
    "\n",
    "input_size = int(data_trn_np.shape[1]*data_trn_np.shape[2])\n"
   ]
  },
  {
   "cell_type": "code",
   "execution_count": 157,
   "metadata": {},
   "outputs": [],
   "source": [
    "# creating device - Either GPU or CPU\n",
    "device = torch.device(\"cuda\" if torch.cuda.is_available() else \"cpu\")"
   ]
  },
  {
   "cell_type": "code",
   "execution_count": 158,
   "metadata": {},
   "outputs": [],
   "source": [
    "# Specifying FNN, loss function, and optimizer \n",
    "model = NN.Network(\n",
    "    hidden_layer_dims=hidden_layers,\n",
    "    input_size=input_size,\n",
    "    device=device\n",
    ").to(device)\n",
    "\n",
    "criterion = nn.CrossEntropyLoss().to(device)\n",
    "optimizer = torch.optim.Adam(model.parameters(), lr=learning_rate)"
   ]
  },
  {
   "cell_type": "code",
   "execution_count": 159,
   "metadata": {},
   "outputs": [
    {
     "name": "stderr",
     "output_type": "stream",
     "text": [
      "100%|██████████| 20/20 [00:11<00:00,  1.77it/s]\n"
     ]
    }
   ],
   "source": [
    "# Train the model\n",
    "num_steps = len(loader_train)\n",
    "loss_list = []\n",
    "loss_avg_trn = []\n",
    "loss_avg_tst = []\n",
    "for epoch in tqdm(range(epochs)):\n",
    "    for i, (value, label) in enumerate(loader_train):\n",
    "        sample = value.reshape(batch_size, -1).to(device)\n",
    "        label = label.view(label.shape[0], 2).to(device)\n",
    "        \n",
    "        # forward\n",
    "        output = model(sample)\n",
    "        loss = criterion(output, label)\n",
    "        loss_list.append(loss.item())\n",
    "        \n",
    "        # backward\n",
    "        optimizer.zero_grad()\n",
    "        loss.backward()\n",
    "        optimizer.step()\n",
    "    \n",
    "    \n",
    "    with torch.no_grad():\n",
    "        loss_test = []\n",
    "        for value, label in loader_test:\n",
    "            sample = value.reshape(batch_size, -1).to(device)\n",
    "            label = label.view(label.shape[0], 2).to(device)\n",
    "            \n",
    "            output = model(sample)\n",
    "            loss = criterion(output, label)\n",
    "            \n",
    "            loss_test.append(loss.item())\n",
    "    \n",
    "    loss_avg_trn.append(np.mean(np.array(loss_list)))\n",
    "    loss_avg_tst.append(np.mean(np.array(loss_test)))\n",
    "    \n",
    "    loss_list = []\n",
    "    loss_test = []\n",
    "    "
   ]
  },
  {
   "cell_type": "code",
   "execution_count": 160,
   "metadata": {},
   "outputs": [],
   "source": [
    "with torch.no_grad():\n",
    "    out_list = []\n",
    "    label_list = []\n",
    "\n",
    "    labs1d = []\n",
    "    pred1d = []\n",
    "    n_samples = 0\n",
    "    n_diff = 0\n",
    "    \n",
    "    for value, label in loader_test:\n",
    "        sample = value.reshape(batch_size, -1).to(device)\n",
    "        label = label.view(label.shape[0], 2).to(device)\n",
    "        label_list += label.tolist()\n",
    "        \n",
    "        output = model(sample)\n",
    "        out_list += output.tolist()\n",
    "        _, pred = torch.max(output, 1)\n",
    "        _, labs = torch.max(label, 1)\n",
    "        n_diff += torch.abs(pred-labs)\n",
    "\n",
    "        pred1d += pred.tolist()\n",
    "        labs1d += labs.tolist()\n",
    "\n",
    "        n_samples += 1\n",
    "    \n",
    "pred1d = np.array(pred1d)\n",
    "labs1d = np.array(labs1d)"
   ]
  },
  {
   "cell_type": "code",
   "execution_count": 161,
   "metadata": {},
   "outputs": [
    {
     "name": "stdout",
     "output_type": "stream",
     "text": [
      "91.50000% overall accuracy\n",
      "91.37255% of 0 guessed correctly\n",
      "91.63265% of 1 guessed correctly\n"
     ]
    }
   ],
   "source": [
    "path = f\"non_lin_plots/snr{SNR}/\"\n",
    "acc = np.count_nonzero(pred1d == labs1d)/len(labs1d)\n",
    "acc0 = (len(pred1d[np.where(labs1d==0)])-\n",
    "        np.sum(pred1d[np.where(labs1d==0)]))/len(np.where(labs1d==0)[0])\n",
    "        \n",
    "acc1 = np.sum(pred1d[np.where(labs1d==1)])/len(np.where(labs1d==1)[0])\n",
    "\n",
    "print(f\"{acc*100:.5f}% overall accuracy\")\n",
    "print(f\"{acc0*100:.5f}% of 0 guessed correctly\")\n",
    "print(f\"{acc1*100:.5f}% of 1 guessed correctly\")\n",
    "\n",
    "\n",
    "# Use the open() function to create a file object in append mode\n",
    "with open(path+\"accuracies.txt\", \"w\") as f:\n",
    "    # Use the write() method of the file object to append text to the file\n",
    "    f.write(f\"{acc*100:.5f}% overall accuracy\\n\")\n",
    "    f.write(f\"{acc0*100:.5f}% of 0 guessed correctly\\n\")\n",
    "    f.write(f\"{acc1*100:.5f}% of 1 guessed correctly\")\n"
   ]
  },
  {
   "cell_type": "markdown",
   "metadata": {},
   "source": [
    "The best result we have gotten were without noise and is around 91\\% accuracy in the 3 tests. When setting the SNR=0.1 we still get around 75\\% accuracy, but at SNR=0.01 we get around 50\\% accuracy for both class 0 and 1. \n",
    "\n",
    "<h2>Plotting</h2>\n",
    "The plot below is to ensure we are not overfitting the model. "
   ]
  },
  {
   "cell_type": "code",
   "execution_count": 162,
   "metadata": {},
   "outputs": [
    {
     "data": {
      "image/png": "[encoded data removed]",
      "text/plain": [
       "<Figure size 640x480 with 1 Axes>"
      ]
     },
     "metadata": {},
     "output_type": "display_data"
    }
   ],
   "source": [
    "plt.plot(np.array(loss_avg_trn), label=\"Training\")\n",
    "plt.plot(np.array(loss_avg_tst), label=\"Validation\")\n",
    "plt.title('Loss')\n",
    "plt.legend(bbox_to_anchor=(0.5, -0.07), loc=\"upper center\", fancybox=True, shadow=True, ncol=2, fontsize=12)\n",
    "plt.savefig(path+'nn_loss.pdf')\n",
    "plt.show()"
   ]
  },
  {
   "cell_type": "code",
   "execution_count": 163,
   "metadata": {},
   "outputs": [],
   "source": [
    "all_X = []\n",
    "\n",
    "for X, y in loader_test:\n",
    "  all_X.append(X)\n",
    "\n",
    "test_X = torch.cat(all_X, dim=0).numpy()\n",
    "\n",
    "wrong_guess_idx = np.where(pred1d != labs1d)\n",
    "right_guess_idx = np.where(pred1d == labs1d)"
   ]
  },
  {
   "cell_type": "code",
   "execution_count": 164,
   "metadata": {},
   "outputs": [],
   "source": [
    "wrong_guess = test_X[wrong_guess_idx]\n",
    "right_guess = test_X[right_guess_idx]\n",
    "\n",
    "wrong_guess_lab = labs1d[wrong_guess_idx]\n",
    "right_guess_lab = labs1d[right_guess_idx]\n",
    "\n",
    "wrong_guess_lab_pred = pred1d[wrong_guess_idx]\n",
    "right_guess_lab_pred = pred1d[right_guess_idx]\n",
    "\n",
    "corr_wrong = np.zeros(len(wrong_guess))\n",
    "corr0_wrong = []\n",
    "corr1_wrong = []\n",
    "for i in range(len(wrong_guess)):\n",
    "    corr_wrong[i] = np.corrcoef(wrong_guess[i,:,0], wrong_guess[i,:,1])[0,1]\n",
    "\n",
    "    if wrong_guess_lab[i] == 0:\n",
    "        corr0_wrong.append(corr_wrong[i])\n",
    "    else:\n",
    "        corr1_wrong.append(corr_wrong[i])\n",
    "\n",
    "corr0_wrong = np.array(corr0_wrong)\n",
    "corr1_wrong = np.array(corr1_wrong)\n",
    "\n",
    "corr_right = np.zeros(len(right_guess))\n",
    "corr0_right = []\n",
    "corr1_right = []\n",
    "for i in range(len(right_guess)):\n",
    "    corr_right[i] = np.corrcoef(right_guess[i,:,0], right_guess[i,:,1])[0,1]\n",
    "\n",
    "    if right_guess_lab[i] == 0:\n",
    "        corr0_right.append(corr_right[i])\n",
    "    if right_guess_lab[i] == 1:\n",
    "        corr1_right.append(corr_right[i])\n",
    "\n",
    "corr0_right = np.array(corr0_right)\n",
    "corr1_right = np.array(corr1_right)"
   ]
  },
  {
   "cell_type": "code",
   "execution_count": 165,
   "metadata": {},
   "outputs": [
    {
     "data": {
      "image/png": "[encoded data removed]",
      "text/plain": [
       "<Figure size 1200x500 with 2 Axes>"
      ]
     },
     "metadata": {},
     "output_type": "display_data"
    }
   ],
   "source": [
    "x_wrong = np.linspace(0, len(corr_wrong), len(corr_wrong))\n",
    "\n",
    "figsize = (12, 5)\n",
    "fig, axs = plt.subplots(1, 2, figsize=figsize)\n",
    "#fig.suptitle('Validation vs Training', fontsize=18)\n",
    "\n",
    "axs[0].hist(corr0_wrong, alpha=0.25, label='Class 0 (independent)', density=True)\n",
    "axs[0].hist(corr1_wrong, alpha=0.25, label='Class 1 (dependent)', density=True)\n",
    "axs[0].set_title('Wrong predictions')\n",
    "\n",
    "axs[1].hist(corr0_right, alpha=0.25, label='Class 0 \\n(independent)', density=True)\n",
    "axs[1].hist(corr1_right, alpha=0.25, label='Class 1 \\n(dependent)', density=True)\n",
    "axs[1].set_title('Correct predictions')\n",
    "\n",
    "axs[1].legend(bbox_to_anchor=(1.42, 0.885), loc=\"center right\", fancybox=True, shadow=True, ncol=1, fontsize=12)\n",
    "#axs[0].legend(bbox_to_anchor=(0.5, -0.07), loc=\"upper center\", fancybox=True, shadow=True, ncol=3, fontsize=12)\n",
    "plt.tight_layout()\n",
    "plt.savefig(path+'nn_pred.pdf')\n",
    "plt.show()\n",
    "\n",
    "# plt.plot(x_wrong[:len(corr0_wrong)], corr0_wrong, '*', alpha=0.25, label='Class 0 (independent)')\n",
    "# plt.plot(x_wrong[len(corr0_wrong):], corr1_wrong, '*', alpha=0.25, label='Class 1 (dependent)')\n",
    "# plt.title('Wrong guesses')\n",
    "# plt.legend(bbox_to_anchor=(0.5, -0.07), loc=\"upper center\", fancybox=True, shadow=True, ncol=2, fontsize=12)\n",
    "# plt.show()\n",
    "\n",
    "# x_right = np.linspace(0, len(corr_right), len(corr_right))\n",
    "# plt.plot(x_right[:len(corr0_right)], corr0_right, '*', alpha=0.25, label='Class 0 (independent)')\n",
    "# plt.plot(x_right[len(corr0_right):], corr1_right, '*', alpha=0.25, label='Class 1 (dependent)')\n",
    "# plt.title('Right guesses')\n",
    "# plt.legend(bbox_to_anchor=(0.5, -0.07), loc=\"upper center\", fancybox=True, shadow=True, ncol=2, fontsize=12)\n",
    "# plt.show()"
   ]
  },
  {
   "cell_type": "code",
   "execution_count": 129,
   "metadata": {},
   "outputs": [
    {
     "data": {
      "text/plain": [
       "(10000, 1000, 2)"
      ]
     },
     "execution_count": 129,
     "metadata": {},
     "output_type": "execute_result"
    }
   ],
   "source": [
    "# for i in range(10):\n",
    "#     plt.plot(wrong_guess[i], alpha=0.5)\n",
    "#     plt.title(f'True class {wrong_guess_lab[i]} guessed {wrong_guess_lab_pred[i]}, corr={corr_wrong[i]:.5f}')\n",
    "#     plt.show()"
   ]
  },
  {
   "cell_type": "code",
   "execution_count": 74,
   "metadata": {},
   "outputs": [
    {
     "name": "stdout",
     "output_type": "stream",
     "text": [
      "The tested data is dependent \n",
      "Certainty independent = 0.11393\n",
      "Certainty dependent   = 0.88607\n",
      "The tested data is dependent \n",
      "Certainty independent = 0.26660\n",
      "Certainty dependent   = 0.73340\n"
     ]
    }
   ],
   "source": [
    "import torch.nn.functional as F\n",
    "\n",
    "out = model(torch.concat([torch.zeros(1000), torch.ones(1000)]))\n",
    "classification = torch.argmax(out).item()\n",
    "\n",
    "if classification == 0:\n",
    "    dependency = 'independent'\n",
    "else:\n",
    "    dependency = 'dependent'\n",
    "\n",
    "print(f\"The tested data is {dependency} \\nCertainty independent = {F.softmax(out, dim=0)[0]:.5f}\\nCertainty dependent   = {F.softmax(out, dim=0)[1]:.5f}\")\n",
    "\n",
    "\n",
    "# anders test:\n",
    "coup = np.load('dat/coupled_data.npy')\n",
    "ucoup = np.load('dat/uncoupled_data.npy')\n",
    "\n",
    "coup_t = torch.from_numpy(coup).to(torch.float32)\n",
    "ucoup_t = torch.from_numpy(ucoup).to(torch.float32)\n",
    "\n",
    "out = model(ucoup_t)\n",
    "classification = torch.argmax(out).item()\n",
    "\n",
    "if classification == 0:\n",
    "    dependency = 'independent'\n",
    "else:\n",
    "    dependency = 'dependent'\n",
    "\n",
    "print(f\"The tested data is {dependency} \\nCertainty independent = {F.softmax(out, dim=0)[0]:.5f}\\nCertainty dependent   = {F.softmax(out, dim=0)[1]:.5f}\")\n"
   ]
  },
  {
   "cell_type": "markdown",
   "metadata": {},
   "source": [
    "## Ideas for future work on this\n",
    "\n",
    "The plots above (histogram and the other plots in that shell) shows that our network makes an estimate that the Corrcoef is not able to do any better. \n",
    "\n",
    "An idea is to do the same with KSG. If there is a a pattern on plots similar to the ones above then the KSG could be used to improve the FFN estimator. \n",
    "\n",
    "One final thought could be to implement RNN and see if this is a better estimator."
   ]
  },
  {
   "cell_type": "markdown",
   "metadata": {},
   "source": []
  }
 ],
 "metadata": {
  "kernelspec": {
   "display_name": "Python 3.10.8 ('uni_python')",
   "language": "python",
   "name": "python3"
  },
  "language_info": {
   "codemirror_mode": {
    "name": "ipython",
    "version": 3
   },
   "file_extension": ".py",
   "mimetype": "text/x-python",
   "name": "python",
   "nbconvert_exporter": "python",
   "pygments_lexer": "ipython3",
   "version": "3.10.8"
  },
  "orig_nbformat": 4,
  "vscode": {
   "interpreter": {
    "hash": "5a1dc1df412c4b1b7f123b1b4ec1059ad232d9475d2964d51cd2f39dfe4e8cc4"
   }
  }
 },
 "nbformat": 4,
 "nbformat_minor": 2
}

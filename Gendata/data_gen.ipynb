{
 "cells": [
  {
   "cell_type": "markdown",
   "metadata": {},
   "source": [
    "# Data-gen notebook\n",
    "Denne notebook er skabt til at holde styr på hvilke metoder Anders har brug til at generer data, og datilhørende kilder\n",
    "\n",
    "## Indhold:\n",
    "1. Simpel \"<i>normal af normal</i>\"\n",
    "2. AR(p) processer"
   ]
  },
  {
   "cell_type": "code",
   "execution_count": null,
   "metadata": {},
   "outputs": [],
   "source": [
    "# Imports\n",
    "import numpy as np\n",
    "import matplotlib.pyplot as plt\n",
    "from scipy.stats import multivariate_normal as mn"
   ]
  },
  {
   "cell_type": "markdown",
   "metadata": {},
   "source": [
    "### 1. Simpel \"normal af normal\" data-generering\n",
    "Baseret på side 51 af <b>Statistical inference of informational networks</b>.\n",
    "\n",
    "Vi generer data baseret på\n",
    "$$ X\\overset{i.i.d.}{\\sim}\\mathcal{N}\\left( 0, \\sigma^2_x I \\right) \\\\\n",
    " Y\\overset{i.i.d.}{\\sim}\\mathcal{N}\\left( X, \\sigma^2_y I \\right) $$\n",
    "\n",
    " Så er MI givet ved\n",
    " $$ I(X;\\ Y) = \\log_2\\left( 1 + \\dfrac{\\sigma^2_x}{\\sigma^2_y} \\right) $$"
   ]
  },
  {
   "cell_type": "code",
   "execution_count": null,
   "metadata": {},
   "outputs": [],
   "source": [
    "def gen_list(n, var_x, var_y, dim=2):\n",
    "    \"\"\"\n",
    "    Generates a set of random points according to <statistical inference of information in networks>\n",
    "    on page 51. The third variable, Z, is ignored as this is only used to create training data\n",
    "    for MI, not CMI.\n",
    "\n",
    "    The covariance matrices are both a scaled identity matrix.\n",
    "\n",
    "    :param n: Number of points realized\n",
    "    :param var_x: Variance of X\n",
    "    :param var_y: Variance of Y\n",
    "    :param dim: Dimension of the variables X and Y\n",
    "    :return:\n",
    "    :returns values: a realization of the process described in the book. Dimensions are [n, X/Y, dim].\n",
    "                     e.g. [20, 0, 2] gives the second element the 20th realization of X.\n",
    "    :returns mi: The mutual information: I(X; Y)\n",
    "    \"\"\"\n",
    "    values = np.zeros((n, 2, dim))  # init\n",
    "    values[:, 0, :] = mn.rvs(mean=np.zeros(dim), cov=var_x * np.identity(dim), size=(n, dim)).reshape((n, dim))\n",
    "\n",
    "    for i, x in enumerate(values[:, 0, :]):\n",
    "        values[i, 1, :] = mn.rvs(mean=x, cov=var_y * np.identity(dim), size=1)\n",
    "\n",
    "    mi = dim * np.log2(1 + var_x / var_y) / 2\n",
    "\n",
    "    return values, mi"
   ]
  },
  {
   "cell_type": "markdown",
   "metadata": {},
   "source": [
    "### 2. AR(p) processer\n",
    "En AR(p) er givet ved\n",
    "$$ x_k = \\omega_k + \\sum^{p}_{i=1}A_ix_{k-1}, \\quad \\omega_k \\overset{i.i.d.}{\\sim} \\mathcal{N}\\left( 0, \\Sigma_\\omega \\right) $$\n",
    "\n",
    "Det er åbenlyst at $E[x_k]= 0 + E[x_0]$. Hvis vi definerer $Var[x_k]=\\sigma_k^2$, og $A_i(x)=A_ixA_i^\\top$ så kan vi se at\n",
    "$\n",
    "\\begin{align}\n",
    "Var[x_0] &= \\sigma_0^2 \\\\\n",
    "Var[x_1] &= A_1(\\sigma_0) + \\Sigma_\\omega \\\\\n",
    "Var[x_2] &= A_1(\\sigma_1) + A_2(\\sigma_0) + \\Sigma_\\omega \\\\\n",
    "&\\ \\ \\vdots \\\\\n",
    "Var[x_k] &= \\Sigma_\\omega + \\sum^{p}_{i=1} A_i(\\sigma_{k-i})\n",
    "\\end{align}\n",
    "$\n",
    "Dette udtryk kan udregnes løbende når vi simulerer vores AR(p) process. <i>NOTE: Der findes nogle ligninger som viser hvad variansen går imod, tror jeg. Variansen konvergerer nemlig meget hurtigt i praksis</i>\n",
    "\n",
    "Vi kan også nemt argumenterer for at $x_k$ er fordelt efter multivariat gaussisk fordeling (da den bare er en lin.komb. af $\\omega_i$)\n",
    "\n",
    "Marginalen for et subset af $x$, $x_s$, har fordelingen:\n",
    "$$ x_s \\sim \\mathcal{N}\\left( S\\mu,S\\Sigma S^\\top \\right) $$\n",
    "hvis $\\mu$ og $\\Sigma$ er mean og varians for $x$. Her er $S$ defineret som $s_{ij}=1$ hvis det j'te element i $x_s$ er det i'te element i $x$\n",
    "\n",
    "Hvis vi vil undersøge MI indgangsvist kan vi tage udgangspunkt i [denne](https://www.math.nyu.edu/~kleeman/infolect7.pdf) lecture note. Det skal dog siges at det er nok noget vi selv kan udlede, eller finde en mere fast kilde på senere. På side 2 i kilden får vi givet at\n",
    "$$ I(X;Y)=\\dfrac{1}{2}log_2\\left( \\dfrac{|\\Sigma_X| |\\Sigma_Y|}{|\\Sigma|} \\right)$$\n",
    "Hvor $\\Sigma$ er covariancen for den jointe fordeling imellem $X$ og $Y$.\n",
    "\n",
    "I praksis vil det sige at hvis vi tagetr $x_k^{(i)}$ til at betyde den i'te indgang i $x$ til index $k$, så får vi \n",
    "$\\begin{align}\n",
    "I(X_k^{(i)}; X_k^{(j)}) &= \\dfrac{1}{2}log_2\\left(\\dfrac{ det\\left(\\Sigma_{ii}\\right) det\\left( \\Sigma_{jj}\\right)}{ det\\left( \\begin{bmatrix} \\Sigma_{ii} & \\Sigma_{ij} \\\\ \\Sigma_{ji} & \\Sigma_{jj} \\end{bmatrix}\\right) }\\right) \\\\\n",
    "&= \\dfrac{1}{2}log_2\\left(\\dfrac{ \\Sigma_{ii}\\Sigma_{jj}}{\\Sigma_{ii}\\Sigma_{jj} -2\\Sigma_{ij}}\\right)\n",
    "\\end{align}$"
   ]
  },
  {
   "cell_type": "code",
   "execution_count": null,
   "metadata": {},
   "outputs": [],
   "source": [
    "def MI(idx1, idx2, cov):\n",
    "    \"\"\"Calculates the mutual information between the marginals of a multivariate gaussian distribution: I(X1; X2)\n",
    "\n",
    "    Args:\n",
    "        idx1 (int): Index of X1 in the vector it came from\n",
    "        idx2 (int): Index of X2 in the vector it came from\n",
    "        cov (2D array float): Covariance matrix of the vector X, which X1 and X2 came from\n",
    "\n",
    "    Returns:\n",
    "        float: Returns the mutual information of X1 and X2\n",
    "    \"\"\"\n",
    "    top = cov[idx1, idx1] * cov[idx2, idx2]\n",
    "    bot = top - 2*cov[idx1, idx2]\n",
    "\n",
    "    return .5 * np.log2(top / bot)\n",
    "\n",
    "\n",
    "def simulate_AR(coefficients, noise_cov, num_steps, x0=None):\n",
    "    \"\"\"Simulate the AR(p) process, with iid zero-mean gaussian additive noise.\n",
    "\n",
    "    Args:\n",
    "        coefficients (list of arrays): List of the coefficient matrices to use in the realization. Entries in list are 2D float arrays\n",
    "        noise_cov (2D array float): Covariance matrix of the gaussian additive noise\n",
    "        num_steps (int): Number of iterations for which the simulation should run\n",
    "        x0 (1D float array, optional): The starting value of the process. If specified the derivations of the MI don't fit as of the end of september 2022. Defaults to None.\n",
    "    \n",
    "    Returns:\n",
    "        array float: Returns the resulting array of the realization of the process\n",
    "    \"\"\"\n",
    "    # Setup\n",
    "    p = len(coefficients)\n",
    "    dim = noise_cov.shape[0]\n",
    "    results = np.zeros((num_steps + 1, dim))\n",
    "\n",
    "    # initialize the initial value\n",
    "    if x0 is None:\n",
    "        x0 = np.zeros(p)\n",
    "    results[0] = x0\n",
    "\n",
    "    # simulate the process\n",
    "    for i in range(1, num_steps + 1):\n",
    "        iter_sum = np.zeros(dim)\n",
    "\n",
    "        # Try except makes sure we don't try to index results too far back. Could be solved with a bool check changed when i >= p\n",
    "        for j in range(p):\n",
    "            try:\n",
    "                iter_sum += coefficients[j] @ results[i - (p + 1)]\n",
    "            except IndexError:\n",
    "                break\n",
    "        \n",
    "        # Save iteration to results\n",
    "        iter_sum += np.random.multivariate_normal(mean=np.zeros(dim), cov=noise_cov)\n",
    "        results[i] = iter_sum\n",
    "    \n",
    "    return results\n",
    "    \n"
   ]
  },
  {
   "cell_type": "markdown",
   "metadata": {},
   "source": [
    "# NOTER TIL AR\n",
    "lav en funktion til at gen alle de coef matricer vi skal bruge, og en funktion som hiver de coef matricer ind i RAM. Så kan vi lave et data_gen script hvor vi bare skal specificere et int for at vælge hvilken data-type vi vil simulerer"
   ]
  }
 ],
 "metadata": {
  "kernelspec": {
   "display_name": "Python 3.10.4 ('uni_python')",
   "language": "python",
   "name": "python3"
  },
  "language_info": {
   "name": "python",
   "version": "3.10.4"
  },
  "orig_nbformat": 4,
  "vscode": {
   "interpreter": {
    "hash": "e5a7acdd9325f5c11fd27de3f06d5ee506dbe72713cd74a04fd96fc5018595a3"
   }
  }
 },
 "nbformat": 4,
 "nbformat_minor": 2
}

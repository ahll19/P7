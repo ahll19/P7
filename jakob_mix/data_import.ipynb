{
 "cells": [
  {
   "cell_type": "markdown",
   "source": [
    "Importing data generator and training"
   ],
   "metadata": {
    "collapsed": false,
    "pycharm": {
     "name": "#%% md\n"
    }
   }
  },
  {
   "cell_type": "code",
   "execution_count": 4,
   "metadata": {
    "collapsed": true,
    "pycharm": {
     "name": "#%%\n"
    }
   },
   "outputs": [],
   "source": [
    "import sys, os\n",
    "sys.path.append(os.getcwd())\n",
    "import torch\n",
    "import torchvision\n",
    "import torchvision.transforms as transforms\n",
    "import torch.nn as nn\n",
    "from torch.utils.data import Dataset, DataLoader\n",
    "import pandas as pd\n",
    "import matplotlib.pyplot as plt\n",
    "import numpy as np\n",
    "import data_gen1\n",
    "\n",
    "np.random.seed(69)\n",
    "# torch.device('cuda' if torch.cuda.is_available else 'cpu')\n",
    "device = torch.device('cpu')"
   ]
  },
  {
   "cell_type": "code",
   "execution_count": 21,
   "outputs": [
    {
     "data": {
      "text/plain": "(array([[[-1.17437157, -0.10885711],\n         [ 3.50118478,  3.87670562]],\n \n        [[-1.36466648, -0.54565739],\n         [ 3.45002393,  3.8294597 ]]]),\n array([0.5450571 , 0.77598356]))"
     },
     "execution_count": 21,
     "metadata": {},
     "output_type": "execute_result"
    }
   ],
   "source": [
    "def create_data(num_points, point_size=1000, min_var0=0.1, max_var0=10, min_var1=0.1, max_var1=10, dim=1):\n",
    "    x0_var = np.random.uniform(min_var0, max_var0, num_points)\n",
    "    x1_var = np.random.uniform(min_var1, max_var1, num_points)\n",
    "    data = np.zeros([num_points, point_size, 2, dim])\n",
    "    label = np.zeros([num_points])\n",
    "\n",
    "    for i in range(num_points):\n",
    "        data[i], label[i] = data_gen1.gen_list(\n",
    "            point_size, x0_var[i], x1_var[i], dim)\n",
    "\n",
    "    return data, label\n",
    "\n",
    "def create_data2(realisations, xy_len=1000, min_var0=0.1, max_var0=10, min_var1=0.1, max_var1=10, dim=1):\n",
    "    x0_var = np.random.uniform(min_var0, max_var0, realisations)\n",
    "    x1_var = np.random.uniform(min_var1, max_var1, realisations)\n",
    "    data = np.zeros((realisations, xy_len, 2))\n",
    "    label = np.zeros([realisations])\n",
    "\n",
    "    for i in range(realisations):\n",
    "        _test, label[i] = data_gen1.gen_list(\n",
    "            xy_len, x0_var[i], x1_var[i], dim)\n",
    "        x, y = _test[:, 0, :], _test[:, 1, :]\n",
    "\n",
    "        data[i] = np.hstack((x, y))\n",
    "\n",
    "    return data, label\n",
    "\n",
    "data, label = create_data2(2, 2)\n",
    "data, label"
   ],
   "metadata": {
    "collapsed": false,
    "pycharm": {
     "name": "#%%\n"
    }
   }
  },
  {
   "cell_type": "code",
   "execution_count": 36,
   "outputs": [],
   "source": [
    "# Test data import\n",
    "class Article_nn(nn.Module):\n",
    "    def __init__(self, input_size):\n",
    "        super(Article_nn, self).__init__()\n",
    "        self.l1 = nn.Linear(input_size*2, 64)\n",
    "        self.relu = nn.ReLU()\n",
    "        self.l2 = nn.Linear(64, 1)\n",
    "        self.sig = nn.Sigmoid()\n",
    "\n",
    "    def forward(self, x):\n",
    "        out = self.l1(x)\n",
    "        out = self.relu(out)\n",
    "        out = self.sig(self.l2(out))\n",
    "        return out\n",
    "\n",
    "\n",
    "class NumbersDataset(Dataset):\n",
    "    def __init__(self, num_points, point_size):\n",
    "        self.samples, self.labels = create_data2(num_points, point_size)\n",
    "        self.samples = torch.from_numpy(self.samples).to(torch.float32)\n",
    "        self.labels = torch.from_numpy(self.labels).to(torch.float32)\n",
    "\n",
    "    def __len__(self):\n",
    "        return len(self.samples)\n",
    "\n",
    "    def __getitem__(self, idx):\n",
    "        return self.samples[idx], self.labels[idx]\n"
   ],
   "metadata": {
    "collapsed": false,
    "pycharm": {
     "name": "#%%\n"
    }
   }
  },
  {
   "cell_type": "code",
   "execution_count": 77,
   "outputs": [],
   "source": [
    "# training loop\n",
    "def train(train_loader, learning_rate, num_epoch, input_size):\n",
    "    model = Article_nn(input_size)\n",
    "    # print(train_loader)\n",
    "    # loss and optimizer\n",
    "    criterion = nn.BCELoss()\n",
    "    optimizer = torch.optim.SGD(model.parameters(), lr=learning_rate)\n",
    "\n",
    "    # training loop\n",
    "    n_total_steps = len(train_loader)\n",
    "    for epoch in range(num_epoch):\n",
    "        for i, (images, labels) in enumerate(train_loader):\n",
    "            sample = images.reshape(5,-1).to(device)\n",
    "            labels = labels.view(labels.shape[0], 1).to(device) # makes it a column vector\n",
    "\n",
    "            # forward\n",
    "            output = model(sample)\n",
    "            loss = criterion(output, labels)\n",
    "\n",
    "            # backward\n",
    "            optimizer.zero_grad()\n",
    "            loss.backward()\n",
    "            optimizer.step()\n",
    "\n",
    "            if (i) % 1 == 0:\n",
    "                print(\n",
    "                    f'epoch {epoch} / {num_epoch-1}, step {i}/{n_total_steps-1} loss = {loss.item():.4f}')\n",
    "\n",
    "    print(f\"\\n#################################\\n# TEST DONE\\n#################################\\n\")\n",
    "\n",
    "    return model"
   ],
   "metadata": {
    "collapsed": false,
    "pycharm": {
     "name": "#%%\n"
    }
   }
  },
  {
   "cell_type": "code",
   "execution_count": 86,
   "outputs": [],
   "source": [
    "def test(model, test_loader):\n",
    "    with torch.no_grad():\n",
    "        n_samples = 0\n",
    "        n_diff = 0\n",
    "        for images, labels in test_loader:\n",
    "            sample = images.reshape(5, -1).to(device)\n",
    "            labels = labels.view(labels.shape[0], 1).to(device)\n",
    "\n",
    "            outputs = model(sample) # trained model\n",
    "            n_diff += torch.mean(torch.abs(outputs-labels))\n",
    "            n_samples += labels.shape[0]\n",
    "            #n_correct += (pred == labels).sum().item()\n",
    "\n",
    "        acc = n_diff/n_samples\n",
    "        print(f\"accuracy = {acc}\")"
   ],
   "metadata": {
    "collapsed": false,
    "pycharm": {
     "name": "#%%\n"
    }
   }
  },
  {
   "cell_type": "code",
   "execution_count": 87,
   "outputs": [
    {
     "name": "stdout",
     "output_type": "stream",
     "text": [
      "epoch 0 / 19, step 0/3 loss = 0.8255\n",
      "epoch 0 / 19, step 1/3 loss = 1.2399\n",
      "epoch 0 / 19, step 2/3 loss = 0.8707\n",
      "epoch 0 / 19, step 3/3 loss = 21.0264\n",
      "epoch 1 / 19, step 0/3 loss = 12.4032\n",
      "epoch 1 / 19, step 1/3 loss = 0.7559\n",
      "epoch 1 / 19, step 2/3 loss = 21.1135\n",
      "epoch 1 / 19, step 3/3 loss = 27.5382\n",
      "epoch 2 / 19, step 0/3 loss = 14.1555\n",
      "epoch 2 / 19, step 1/3 loss = 38.2865\n",
      "epoch 2 / 19, step 2/3 loss = 5.7703\n",
      "epoch 2 / 19, step 3/3 loss = 21.1354\n",
      "epoch 3 / 19, step 0/3 loss = 20.3003\n",
      "epoch 3 / 19, step 1/3 loss = 25.1607\n",
      "epoch 3 / 19, step 2/3 loss = 25.5115\n",
      "epoch 3 / 19, step 3/3 loss = 57.9778\n",
      "epoch 4 / 19, step 0/3 loss = 54.8518\n",
      "epoch 4 / 19, step 1/3 loss = 27.2165\n",
      "epoch 4 / 19, step 2/3 loss = 12.1948\n",
      "epoch 4 / 19, step 3/3 loss = 41.5971\n",
      "epoch 5 / 19, step 0/3 loss = 30.4128\n",
      "epoch 5 / 19, step 1/3 loss = 26.1071\n",
      "epoch 5 / 19, step 2/3 loss = 47.7720\n",
      "epoch 5 / 19, step 3/3 loss = -2.2043\n",
      "epoch 6 / 19, step 0/3 loss = 23.9135\n",
      "epoch 6 / 19, step 1/3 loss = 48.9278\n",
      "epoch 6 / 19, step 2/3 loss = 48.0431\n",
      "epoch 6 / 19, step 3/3 loss = 32.6345\n",
      "epoch 7 / 19, step 0/3 loss = 43.1456\n",
      "epoch 7 / 19, step 1/3 loss = 38.6920\n",
      "epoch 7 / 19, step 2/3 loss = 39.9730\n",
      "epoch 7 / 19, step 3/3 loss = 78.1791\n",
      "epoch 8 / 19, step 0/3 loss = 48.8423\n",
      "epoch 8 / 19, step 1/3 loss = 46.9821\n",
      "epoch 8 / 19, step 2/3 loss = 47.0631\n",
      "epoch 8 / 19, step 3/3 loss = 71.4499\n",
      "epoch 9 / 19, step 0/3 loss = 7.3950\n",
      "epoch 9 / 19, step 1/3 loss = 37.6044\n",
      "epoch 9 / 19, step 2/3 loss = 40.7629\n",
      "epoch 9 / 19, step 3/3 loss = 65.1526\n",
      "epoch 10 / 19, step 0/3 loss = 13.6112\n",
      "epoch 10 / 19, step 1/3 loss = 43.8553\n",
      "epoch 10 / 19, step 2/3 loss = 48.5688\n",
      "epoch 10 / 19, step 3/3 loss = 44.8797\n",
      "epoch 11 / 19, step 0/3 loss = 6.0462\n",
      "epoch 11 / 19, step 1/3 loss = 46.1969\n",
      "epoch 11 / 19, step 2/3 loss = 59.3595\n",
      "epoch 11 / 19, step 3/3 loss = 39.3124\n",
      "epoch 12 / 19, step 0/3 loss = 32.2907\n",
      "epoch 12 / 19, step 1/3 loss = 48.1913\n",
      "epoch 12 / 19, step 2/3 loss = 52.3843\n",
      "epoch 12 / 19, step 3/3 loss = 18.0486\n",
      "epoch 13 / 19, step 0/3 loss = 44.9307\n",
      "epoch 13 / 19, step 1/3 loss = 11.4066\n",
      "epoch 13 / 19, step 2/3 loss = 54.8259\n",
      "epoch 13 / 19, step 3/3 loss = 39.7517\n",
      "epoch 14 / 19, step 0/3 loss = 57.1941\n",
      "epoch 14 / 19, step 1/3 loss = 48.7116\n",
      "epoch 14 / 19, step 2/3 loss = 6.3469\n",
      "epoch 14 / 19, step 3/3 loss = 38.6623\n",
      "epoch 15 / 19, step 0/3 loss = 44.0593\n",
      "epoch 15 / 19, step 1/3 loss = 37.0902\n",
      "epoch 15 / 19, step 2/3 loss = 45.0944\n",
      "epoch 15 / 19, step 3/3 loss = 24.6710\n",
      "epoch 16 / 19, step 0/3 loss = 20.1988\n",
      "epoch 16 / 19, step 1/3 loss = 57.4498\n",
      "epoch 16 / 19, step 2/3 loss = 33.6511\n",
      "epoch 16 / 19, step 3/3 loss = 39.6153\n",
      "epoch 17 / 19, step 0/3 loss = 39.4305\n",
      "epoch 17 / 19, step 1/3 loss = 38.1726\n",
      "epoch 17 / 19, step 2/3 loss = 13.0981\n",
      "epoch 17 / 19, step 3/3 loss = 60.2138\n",
      "epoch 18 / 19, step 0/3 loss = 1.4014\n",
      "epoch 18 / 19, step 1/3 loss = 58.5499\n",
      "epoch 18 / 19, step 2/3 loss = 40.0565\n",
      "epoch 18 / 19, step 3/3 loss = 50.9072\n",
      "epoch 19 / 19, step 0/3 loss = 46.2015\n",
      "epoch 19 / 19, step 1/3 loss = 40.9599\n",
      "epoch 19 / 19, step 2/3 loss = 56.6030\n",
      "epoch 19 / 19, step 3/3 loss = 7.1506\n",
      "\n",
      "#################################\n",
      "# TEST DONE\n",
      "#################################\n",
      "\n",
      "accuracy = 0.08080748468637466\n"
     ]
    }
   ],
   "source": [
    "if __name__ == '__main__':\n",
    "    xy_len = 100\n",
    "    batch_size = 5\n",
    "    realisations = 20\n",
    "    train_data = NumbersDataset(realisations, xy_len)\n",
    "    test_data = NumbersDataset(realisations, xy_len)\n",
    "\n",
    "    train_loader = DataLoader(train_data, batch_size=batch_size, shuffle=True)\n",
    "    test_loader = DataLoader(test_data, batch_size=batch_size, shuffle=True)\n",
    "\n",
    "    # train\n",
    "    model_trained = train(train_loader, 0.5, 20, input_size)\n",
    "\n",
    "    # test\n",
    "    test(model_trained, test_loader)"
   ],
   "metadata": {
    "collapsed": false,
    "pycharm": {
     "name": "#%%\n"
    }
   }
  },
  {
   "cell_type": "code",
   "execution_count": 33,
   "outputs": [
    {
     "data": {
      "text/plain": "4"
     },
     "execution_count": 33,
     "metadata": {},
     "output_type": "execute_result"
    }
   ],
   "source": [
    "len(dataloader)"
   ],
   "metadata": {
    "collapsed": false,
    "pycharm": {
     "name": "#%%\n"
    }
   }
  }
 ],
 "metadata": {
  "kernelspec": {
   "display_name": "Python 3",
   "language": "python",
   "name": "python3"
  },
  "language_info": {
   "codemirror_mode": {
    "name": "ipython",
    "version": 2
   },
   "file_extension": ".py",
   "mimetype": "text/x-python",
   "name": "python",
   "nbconvert_exporter": "python",
   "pygments_lexer": "ipython2",
   "version": "2.7.6"
  }
 },
 "nbformat": 4,
 "nbformat_minor": 0
}
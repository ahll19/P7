{
 "cells": [
  {
   "cell_type": "code",
   "execution_count": 228,
   "metadata": {},
   "outputs": [],
   "source": [
    "import numpy as np\n",
    "import matplotlib.pyplot as plt\n",
    "import torch\n",
    "import torch.nn as nn\n",
    "import torchvision as tv\n",
    "import torchvision.transforms as transforms\n",
    "import sys, os\n",
    "from sklearn.model_selection import train_test_split as tts\n",
    "from scipy.ndimage import uniform_filter1d\n",
    "from torch.utils.data import Dataset, DataLoader, BatchSampler, SequentialSampler\n",
    "import torch.nn.functional as F\n",
    "\n",
    "sys.path.append(os.getcwd())\n",
    "import models\n"
   ]
  },
  {
   "cell_type": "code",
   "execution_count": 229,
   "metadata": {},
   "outputs": [],
   "source": [
    "# Import the keys\n",
    "keys = list(np.load(\"keys/all_keys.npy\"))\n",
    "keys = [tuple(k) for k in keys]\n",
    "\n",
    "# Import the data and labels\n",
    "mi_matrices = {\n",
    "    key:np.load(f\"MI_matrices/MI_matrix_{key}.npy\") for key in keys\n",
    "}\n",
    "data = {\n",
    "    key:np.load(f\"data/data_{key}.npy\") for key in keys\n",
    "}\n",
    "\n",
    "# Sort data into a list, with the same ordering as the MI_matrices\n",
    "mi_matrices_list = list()\n",
    "data_list = list()\n",
    "for key in keys:\n",
    "    mi_matrices_list.append(mi_matrices[key])\n",
    "    data_list.append(data[key])"
   ]
  },
  {
   "cell_type": "code",
   "execution_count": 240,
   "metadata": {},
   "outputs": [],
   "source": [
    "# Hyperparams\n",
    "device = torch.device('cuda' if torch.cuda.is_available() else 'cpu')\n",
    "batch_size_trn = 5\n",
    "batch_size_tst = 5\n",
    "learning_rate = 0.00001\n",
    "num_epochs = 100\n",
    "input_size = 5000\n",
    "network = \"CNN\"\n",
    "time_series = 11\n"
   ]
  },
  {
   "cell_type": "code",
   "execution_count": 241,
   "metadata": {},
   "outputs": [],
   "source": [
    "# Numpify the data\n",
    "data = np.asarray(data_list).reshape((48, 5000, 11))\n",
    "labels = np.array(mi_matrices_list).reshape((48, 11, 11))\n",
    "\n",
    "# Split the data into train and test\n",
    "data_train_np, data_test_np, label_train, label_test = tts(data, labels, test_size=0.1)\n",
    "\n",
    "# Modify variable type to tensor\n",
    "data_train = models.NumbersDataset(data_train_np, label_train)\n",
    "data_test = models.NumbersDataset(data_test_np, label_test)\n",
    "\n",
    "# Create the dataloaders\n",
    "loader_train = DataLoader(\n",
    "    dataset=data_train, \n",
    "    sampler=BatchSampler(\n",
    "        SequentialSampler(data_train), batch_size=batch_size_trn, drop_last=True\n",
    "    ), \n",
    "    )\n",
    "\n",
    "loader_test = DataLoader(\n",
    "    dataset=data_test, \n",
    "    sampler=BatchSampler(\n",
    "        SequentialSampler(data_test), batch_size=batch_size_tst, drop_last=True\n",
    "    ), \n",
    "    )"
   ]
  },
  {
   "cell_type": "code",
   "execution_count": 242,
   "metadata": {},
   "outputs": [
    {
     "data": {
      "text/plain": [
       "((43, 5000, 11), (43, 11, 11), (5, 5000, 11), (5, 11, 11))"
      ]
     },
     "execution_count": 242,
     "metadata": {},
     "output_type": "execute_result"
    }
   ],
   "source": [
    "\n",
    "data_train_np.shape, label_train.shape, data_test_np.shape, label_test.shape"
   ]
  },
  {
   "cell_type": "code",
   "execution_count": 243,
   "metadata": {},
   "outputs": [],
   "source": [
    "class FNN(nn.Module):\n",
    "    def __init__(self, input_size):\n",
    "        super(FNN, self).__init__()\n",
    "        self.l1 = nn.Linear(input_size*11, 64)\n",
    "        self.relu = nn.ReLU()\n",
    "        self.l2 = nn.Linear(64, 1000)\n",
    "        self.l3 = nn.Linear(1000, 11*11)\n",
    "\n",
    "    def forward(self, x):\n",
    "        out = self.relu(self.l1(x))\n",
    "        out = self.relu(self.l2(out))\n",
    "        out = self.l3(out)\n",
    "        return out\n",
    "\n",
    "\n",
    "class CNN(nn.Module):\n",
    "    def __init__(self, input_size, batch_size, time_series):\n",
    "        super(CNN, self).__init__()\n",
    "        self.out_channel = 6\n",
    "        self.kernel_size = 2\n",
    "\n",
    "        self.conv1 = nn.Conv2d(batch_size, self.out_channel, self.kernel_size)\n",
    "        self.pool = nn.MaxPool2d(2, 2)\n",
    "\n",
    "        self.conv_size = int(self.out_channel*(input_size/self.kernel_size-1)*5)\n",
    "        self.fc1 = nn.Linear(self.conv_size, 100)\n",
    "        self.fc2 = nn.Linear(100, 200)\n",
    "        self.fc3 = nn.Linear(200, batch_size*time_series**2)\n",
    "        \n",
    "        self.batch = batch_size\n",
    "\n",
    "    def forward(self, x):\n",
    "        x = self.pool(F.relu(self.conv1(x)))\n",
    "        xshape = int(torch.prod(torch.Tensor([x.shape])).item())\n",
    "        \n",
    "        x = x.view(-1, xshape)\n",
    "        x = F.relu(self.fc1(x))\n",
    "        x = F.relu(self.fc2(x))\n",
    "        x = self.fc3(x)\n",
    "        return x.view(self.batch, time_series, time_series)\n"
   ]
  },
  {
   "cell_type": "code",
   "execution_count": 244,
   "metadata": {},
   "outputs": [
    {
     "name": "stdout",
     "output_type": "stream",
     "text": [
      "did 1 / 100\n",
      "did 11 / 100\n",
      "did 21 / 100\n",
      "did 31 / 100\n",
      "did 41 / 100\n",
      "did 51 / 100\n",
      "did 61 / 100\n",
      "did 71 / 100\n",
      "did 81 / 100\n",
      "did 91 / 100\n"
     ]
    }
   ],
   "source": [
    "if network == \"FNN\":\n",
    "    model = FNN(input_size)\n",
    "elif network == \"CNN\":\n",
    "    model = CNN(input_size, batch_size_trn, time_series)\n",
    "    \n",
    "loss_func = nn.L1Loss()\n",
    "optimizer = torch.optim.SGD(model.parameters(), lr=learning_rate)\n",
    "outs = []\n",
    "outs_exact = []\n",
    "loss_train = []\n",
    "for epoch in range(num_epochs):\n",
    "    outs = []\n",
    "    outs_exact = []\n",
    "    for i, (dat, labs) in enumerate(loader_train):\n",
    "        if len(dat.shape)>3:\n",
    "            dat = dat.reshape(batch_size_trn, input_size, time_series)\n",
    "        if len(labs.shape)>3:\n",
    "            labs = labs.reshape(batch_size_trn, time_series, time_series)\n",
    "\n",
    "        if network == \"FNN\":\n",
    "            batch_iter = dat.shape[0]\n",
    "        \n",
    "            labs = labs.reshape(batch_iter, -1).to(device)\n",
    "            sample = dat.reshape(batch_iter, -1).to(device)\n",
    "        else:\n",
    "            labs = labs.to(device)\n",
    "            sample = dat.to(device)\n",
    "\n",
    "        # forward\n",
    "        output = model(sample)\n",
    "        loss = loss_func(output, labs)\n",
    "\n",
    "        outs_exact += labs.tolist()\n",
    "        outs += output.tolist()\n",
    "        loss_train.append(loss)\n",
    "\n",
    "        # backward\n",
    "        optimizer.zero_grad()\n",
    "        loss.backward()\n",
    "        optimizer.step()\n",
    "        #print(f\"batch {i+1} / {len(loader_train)}\")\n",
    "    \n",
    "    if epoch % 10 == 0:\n",
    "        print(f\"did {epoch+1} / {num_epochs}\")\n",
    "\n"
   ]
  },
  {
   "cell_type": "code",
   "execution_count": 245,
   "metadata": {},
   "outputs": [
    {
     "data": {
      "image/png": "[encoded data removed]",
      "text/plain": [
       "<Figure size 640x480 with 1 Axes>"
      ]
     },
     "metadata": {},
     "output_type": "display_data"
    }
   ],
   "source": [
    "diff = np.array(outs).reshape(-1)-np.array(outs_exact).reshape(-1)\n",
    "\n",
    "plt.plot(diff)\n",
    "plt.title(f\"{np.mean(np.abs(np.array(outs).reshape(-1)-np.array(outs_exact).reshape(-1))):.5f}\")\n",
    "plt.show()"
   ]
  },
  {
   "cell_type": "code",
   "execution_count": 246,
   "metadata": {},
   "outputs": [],
   "source": [
    "with torch.no_grad():\n",
    "    out_list = []\n",
    "    label_list = []\n",
    "    n_samples = 0\n",
    "    n_diff = 0\n",
    "    meh = []\n",
    "    for dat, labs in loader_test:\n",
    "        if len(dat.shape)>3:\n",
    "            dat = dat.reshape(batch_size_tst, input_size, time_series)\n",
    "        if len(labs.shape)>3:\n",
    "            labs = labs.reshape(batch_size_tst, time_series, time_series)\n",
    "        \n",
    "        if network==\"FNN\":\n",
    "            labs = labs.reshape(batch_size_tst, -1).to(device)\n",
    "            sample = dat.reshape(batch_size_tst, -1).to(device)\n",
    "        elif network==\"CNN\":\n",
    "            labs = labs.to(device)\n",
    "            sample = dat.to(device)\n",
    "\n",
    "        label_list += labs.tolist()\n",
    "\n",
    "        outputs = model(sample) # trained model\n",
    "        out_list += outputs.tolist()\n",
    "        n_diff += torch.mean(torch.abs(outputs-labs))\n",
    "        meh += (outputs-labs).tolist()\n",
    "        n_samples += 1\n",
    "\n",
    "    acc = n_diff/n_samples"
   ]
  },
  {
   "cell_type": "code",
   "execution_count": 250,
   "metadata": {},
   "outputs": [
    {
     "data": {
      "image/png": "[encoded data removed]",
      "text/plain": [
       "<Figure size 640x480 with 1 Axes>"
      ]
     },
     "metadata": {},
     "output_type": "display_data"
    }
   ],
   "source": [
    "out_list = np.array(out_list).reshape(-1)\n",
    "label_test = np.array(label_test).reshape(-1)\n",
    "\n",
    "plt.plot(out_list, \"*\", label=\"Model output\")\n",
    "plt.plot(label_test, \"*\", label=\"Label\")\n",
    "plt.legend()\n",
    "plt.show()"
   ]
  },
  {
   "cell_type": "code",
   "execution_count": null,
   "metadata": {},
   "outputs": [],
   "source": []
  }
 ],
 "metadata": {
  "kernelspec": {
   "display_name": "Python 3.10.6 ('uni_python')",
   "language": "python",
   "name": "python3"
  },
  "language_info": {
   "codemirror_mode": {
    "name": "ipython",
    "version": 3
   },
   "file_extension": ".py",
   "mimetype": "text/x-python",
   "name": "python",
   "nbconvert_exporter": "python",
   "pygments_lexer": "ipython3",
   "version": "3.10.8"
  },
  "orig_nbformat": 4,
  "vscode": {
   "interpreter": {
    "hash": "5a1dc1df412c4b1b7f123b1b4ec1059ad232d9475d2964d51cd2f39dfe4e8cc4"
   }
  }
 },
 "nbformat": 4,
 "nbformat_minor": 2
}
